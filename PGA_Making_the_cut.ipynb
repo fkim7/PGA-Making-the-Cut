{
  "nbformat": 4,
  "nbformat_minor": 0,
  "metadata": {
    "colab": {
      "provenance": []
    },
    "kernelspec": {
      "name": "python3",
      "display_name": "Python 3"
    },
    "language_info": {
      "name": "python"
    }
  },
  "cells": [
    {
      "cell_type": "code",
      "execution_count": null,
      "metadata": {
        "id": "YLE1bUpCV7dy"
      },
      "outputs": [],
      "source": []
    },
    {
      "cell_type": "markdown",
      "source": [
        "#SCS 3253 083 Machine Learning Group Project\n",
        "###by Aliza Lakho, Stefen Harris, Francis Kim, James Park\n",
        "###July 2024"
      ],
      "metadata": {
        "id": "BhSvNl9nYp9D"
      }
    },
    {
      "cell_type": "markdown",
      "source": [
        "Through the google dataset search, we found data from the PGA tour for the seasons 2018 to 2021.\n",
        "\n",
        "https://zenodo.org/records/5235684\n",
        "\n",
        "There are 14,000 instances and 64 features in the dataset.\n",
        "\n",
        "The dataset was saved as AnalysisFile.csv in our shared Google Drive project folder."
      ],
      "metadata": {
        "id": "ZXJeYDwBZCAC"
      }
    },
    {
      "cell_type": "code",
      "source": [
        "# read AnalysisFile.csv\n",
        "\n",
        "import pandas as pd\n",
        "import numpy as np\n",
        "import matplotlib.pyplot as plt\n",
        "import seaborn as sns\n",
        "file_id = '1s57MKOxd5Mt2UJBoc7G3rko6atxZ73XW'\n",
        "path = 'https://drive.google.com/uc?export=download&id='+ file_id\n",
        "df = pd.read_csv(path)\n",
        "print(df.head())"
      ],
      "metadata": {
        "colab": {
          "base_uri": "https://localhost:8080/"
        },
        "id": "zKdHZ-qNYtFO",
        "outputId": "ef9bfda4-fc1f-4481-c0fc-05e6af78d2a5"
      },
      "execution_count": null,
      "outputs": [
        {
          "output_type": "stream",
          "name": "stdout",
          "text": [
            "           player  Height cm  Weight lbs         DOB   Age  player id  \\\n",
            "0  Robert Allenby      185.0       180.0  12/07/1971  46.0        5.0   \n",
            "1  Robert Allenby      185.0       180.0  12/07/1971  47.0        5.0   \n",
            "2  Robert Allenby      185.0       180.0  12/07/1971  47.0        5.0   \n",
            "3  Robert Allenby      185.0       180.0  12/07/1971  47.0        5.0   \n",
            "4  Robert Allenby      185.0       180.0  12/07/1971  47.0        5.0   \n",
            "\n",
            "         date                                 course  \\\n",
            "0  29/10/2017  Country Club of Jackson - Jackson, MS   \n",
            "1  20/05/2018            Trinity Forest - Dallas, TX   \n",
            "2  10/06/2018             TPC Southwind, Memphis, TN   \n",
            "3  15/07/2018             TPC Deere Run - Silvis, IL   \n",
            "4  23/07/2018        Keene Trace - Nicholasville, KY   \n",
            "\n",
            "                tournament name  tournament id  ...  visibility  \\\n",
            "0  Sanderson Farms Championship         3763.0  ...        10.0   \n",
            "1             AT&T Byron Nelson    401025251.0  ...         9.0   \n",
            "2        FedEx St. Jude Classic    401025254.0  ...        10.0   \n",
            "3            John Deere Classic    401025258.0  ...         8.0   \n",
            "4         Barbasol Championship    401025271.0  ...        10.0   \n",
            "\n",
            "   winddirDegree  windspeedKmph  GreensGrass  FariwaysGrass  Water  Bunkers  \\\n",
            "0          224.0            3.0          2.0            2.0    1.0      4.0   \n",
            "1          208.0           11.0          2.0            8.0    1.0      4.0   \n",
            "2          211.0           11.0          1.0            8.0    1.0      7.0   \n",
            "3          237.0            6.0          1.0            1.0    1.0      6.0   \n",
            "4          149.0            9.0          1.0            1.0    1.0      3.0   \n",
            "\n",
            "   Slope  Length   Par  \n",
            "0  128.0  6532.0  72.0  \n",
            "1  134.0  7447.0  72.0  \n",
            "2  149.0  7244.0  70.0  \n",
            "3  138.0  7258.0  71.0  \n",
            "4  139.0  7334.0  72.0  \n",
            "\n",
            "[5 rows x 64 columns]\n"
          ]
        }
      ]
    },
    {
      "cell_type": "code",
      "source": [
        "# list the features in the dataset\n",
        "\n",
        "df.columns"
      ],
      "metadata": {
        "colab": {
          "base_uri": "https://localhost:8080/"
        },
        "id": "aBsAIPaBaR9_",
        "outputId": "9ea1803d-beab-4ff5-aa4c-680fba830f71"
      },
      "execution_count": null,
      "outputs": [
        {
          "output_type": "execute_result",
          "data": {
            "text/plain": [
              "Index(['player', 'Height cm', 'Weight lbs', 'DOB', 'Age', 'player id', 'date',\n",
              "       'course', 'tournament name', 'tournament id', 'season',\n",
              "       'final position', 'major', 'made_cut', 'Consecutive_Cuts_Made',\n",
              "       'Finish', 'Score', 'sg_putt', 'sg_arg', 'sg_app', 'sg_ott', 'sg_t2g',\n",
              "       'sg_total', 'sg_putt_prev', 'sg_arg_prev', 'sg_app_prev', 'sg_ott_prev',\n",
              "       'sg_t2g_prev', 'sg_total_prev', 'place', 'Number of Rounds',\n",
              "       'Drive Yards', 'Fairways Hit', 'PUTTS/HOLE', 'maxtempC', 'mintempC',\n",
              "       'totalSnow_cm', 'sunHour', 'uvIndex', 'moon_illumination', 'moonrise',\n",
              "       'moonset', 'sunrise', 'sunset', 'DewPointC', 'FeelsLikeC', 'HeatIndexC',\n",
              "       'WindChillC', 'WindGustKmph', 'cloudcover', 'humidity', 'precipMM',\n",
              "       'pressure', 'tempC', 'visibility', 'winddirDegree', 'windspeedKmph',\n",
              "       'GreensGrass', 'FariwaysGrass', 'Water', 'Bunkers', 'Slope', 'Length',\n",
              "       'Par'],\n",
              "      dtype='object')"
            ]
          },
          "metadata": {},
          "execution_count": 2
        }
      ]
    },
    {
      "cell_type": "code",
      "source": [
        "# we will consider made_cut and Finish as target features\n",
        "\n",
        "cs= df['made_cut'].value_counts()\n",
        "print(cs)\n",
        "\n",
        "cs = df['Finish'].value_counts()\n",
        "print(cs)\n",
        "\n",
        "# Based on the following results, I would give more importance to made_cut"
      ],
      "metadata": {
        "colab": {
          "base_uri": "https://localhost:8080/"
        },
        "id": "vnVHjuTIakBt",
        "outputId": "2938c682-bd60-4acc-d5fd-5e0619699c5c"
      },
      "execution_count": null,
      "outputs": [
        {
          "output_type": "stream",
          "name": "stdout",
          "text": [
            "made_cut\n",
            "1.0    8176\n",
            "0.0    5864\n",
            "Name: count, dtype: int64\n",
            "Finish\n",
            "0.0     7393\n",
            "23.0     148\n",
            "17.0     146\n",
            "2.0      140\n",
            "43.0     136\n",
            "        ... \n",
            "87.0       2\n",
            "85.0       2\n",
            "89.0       1\n",
            "86.0       1\n",
            "90.0       1\n",
            "Name: count, Length: 90, dtype: int64\n"
          ]
        }
      ]
    },
    {
      "cell_type": "code",
      "source": [
        "# Now, I want to see what are the data types that i have and how to code them\n",
        "\n",
        "df.info()"
      ],
      "metadata": {
        "colab": {
          "base_uri": "https://localhost:8080/"
        },
        "id": "KMpJ4-cyae8L",
        "outputId": "3ad17c91-3a86-41d4-9823-2b9106b4b60c"
      },
      "execution_count": null,
      "outputs": [
        {
          "output_type": "stream",
          "name": "stdout",
          "text": [
            "<class 'pandas.core.frame.DataFrame'>\n",
            "RangeIndex: 14041 entries, 0 to 14040\n",
            "Data columns (total 64 columns):\n",
            " #   Column                 Non-Null Count  Dtype  \n",
            "---  ------                 --------------  -----  \n",
            " 0   player                 14040 non-null  object \n",
            " 1   Height cm              14040 non-null  float64\n",
            " 2   Weight lbs             14040 non-null  float64\n",
            " 3   DOB                    14040 non-null  object \n",
            " 4   Age                    14040 non-null  float64\n",
            " 5   player id              14040 non-null  float64\n",
            " 6   date                   14040 non-null  object \n",
            " 7   course                 14040 non-null  object \n",
            " 8   tournament name        14040 non-null  object \n",
            " 9   tournament id          14040 non-null  float64\n",
            " 10  season                 14040 non-null  float64\n",
            " 11  final position         14040 non-null  float64\n",
            " 12  major                  14040 non-null  float64\n",
            " 13  made_cut               14040 non-null  float64\n",
            " 14  Consecutive_Cuts_Made  13721 non-null  float64\n",
            " 15  Finish                 14040 non-null  float64\n",
            " 16  Score                  11656 non-null  float64\n",
            " 17  sg_putt                11656 non-null  float64\n",
            " 18  sg_arg                 11656 non-null  float64\n",
            " 19  sg_app                 11656 non-null  float64\n",
            " 20  sg_ott                 11656 non-null  float64\n",
            " 21  sg_t2g                 11656 non-null  float64\n",
            " 22  sg_total               11656 non-null  float64\n",
            " 23  sg_putt_prev           11482 non-null  float64\n",
            " 24  sg_arg_prev            11482 non-null  float64\n",
            " 25  sg_app_prev            11482 non-null  float64\n",
            " 26  sg_ott_prev            11482 non-null  float64\n",
            " 27  sg_t2g_prev            11482 non-null  float64\n",
            " 28  sg_total_prev          11656 non-null  float64\n",
            " 29  place                  14040 non-null  float64\n",
            " 30  Number of Rounds       14040 non-null  float64\n",
            " 31  Drive Yards            14040 non-null  float64\n",
            " 32  Fairways Hit           14040 non-null  float64\n",
            " 33  PUTTS/HOLE             14040 non-null  float64\n",
            " 34  maxtempC               14040 non-null  float64\n",
            " 35  mintempC               14040 non-null  float64\n",
            " 36  totalSnow_cm           14040 non-null  float64\n",
            " 37  sunHour                14040 non-null  float64\n",
            " 38  uvIndex                14040 non-null  float64\n",
            " 39  moon_illumination      14040 non-null  float64\n",
            " 40  moonrise               14040 non-null  object \n",
            " 41  moonset                14040 non-null  object \n",
            " 42  sunrise                14040 non-null  object \n",
            " 43  sunset                 14040 non-null  object \n",
            " 44  DewPointC              14040 non-null  float64\n",
            " 45  FeelsLikeC             14040 non-null  float64\n",
            " 46  HeatIndexC             14040 non-null  float64\n",
            " 47  WindChillC             14040 non-null  float64\n",
            " 48  WindGustKmph           14040 non-null  float64\n",
            " 49  cloudcover             14040 non-null  float64\n",
            " 50  humidity               14040 non-null  float64\n",
            " 51  precipMM               14040 non-null  float64\n",
            " 52  pressure               14040 non-null  float64\n",
            " 53  tempC                  14040 non-null  float64\n",
            " 54  visibility             14040 non-null  float64\n",
            " 55  winddirDegree          14040 non-null  float64\n",
            " 56  windspeedKmph          14040 non-null  float64\n",
            " 57  GreensGrass            14040 non-null  float64\n",
            " 58  FariwaysGrass          14040 non-null  float64\n",
            " 59  Water                  14040 non-null  float64\n",
            " 60  Bunkers                14040 non-null  float64\n",
            " 61  Slope                  14040 non-null  float64\n",
            " 62  Length                 14040 non-null  float64\n",
            " 63  Par                    14040 non-null  float64\n",
            "dtypes: float64(55), object(9)\n",
            "memory usage: 6.9+ MB\n"
          ]
        }
      ]
    },
    {
      "cell_type": "code",
      "source": [
        "nominal = df[['player', 'player id', 'tournament id', 'GreensGrass', 'FariwaysGrass', 'Par', 'season']]\n",
        "ordinal = df[['Height cm', 'Weight lbs', 'Age', 'Slope', 'Bunkers']]\n",
        "continuous = df[['final position', 'Consecutive_Cuts_Made', 'Score',\n",
        "              'sg_putt',\t'sg_arg',\t'sg_app',\t'sg_ott',\t'sg_t2g',\t'sg_total',\n",
        "              'sg_putt_prev',\t'sg_arg_prev',\t'sg_app_prev',\t'sg_ott_prev',\n",
        "              'sg_t2g_prev',\t'sg_total_prev', 'place', 'Drive Yards', 'Fairways Hit',\n",
        "              'PUTTS/HOLE', 'maxtempC', 'mintempC', 'totalSnow_cm', 'sunHour',\n",
        "              'uvIndex', 'moon_illumination', 'DewPointC', 'FeelsLikeC', 'HeatIndexC', 'WindChillC',\n",
        "               'WindGustKmph', 'cloudcover', 'humidity', 'precipMM',\n",
        "               'pressure', 'tempC', 'visibility', 'winddirDegree', 'windspeedKmph', 'Length']]\n",
        "binary_columns = df[['major', 'made_cut', 'Number of Rounds', 'Water']]"
      ],
      "metadata": {
        "id": "4V72SDFHbGOW"
      },
      "execution_count": null,
      "outputs": []
    },
    {
      "cell_type": "code",
      "source": [
        "df['made_cut'].value_counts()"
      ],
      "metadata": {
        "colab": {
          "base_uri": "https://localhost:8080/",
          "height": 178
        },
        "id": "oqazOnKSbKUi",
        "outputId": "0cd41771-9811-4f4e-8df3-13e54f5f21ae"
      },
      "execution_count": null,
      "outputs": [
        {
          "output_type": "execute_result",
          "data": {
            "text/plain": [
              "made_cut\n",
              "1.0    8176\n",
              "0.0    5864\n",
              "Name: count, dtype: int64"
            ],
            "text/html": [
              "<table border=\"1\" class=\"dataframe\">\n",
              "  <thead>\n",
              "    <tr style=\"text-align: right;\">\n",
              "      <th></th>\n",
              "      <th>count</th>\n",
              "    </tr>\n",
              "    <tr>\n",
              "      <th>made_cut</th>\n",
              "      <th></th>\n",
              "    </tr>\n",
              "  </thead>\n",
              "  <tbody>\n",
              "    <tr>\n",
              "      <th>1.0</th>\n",
              "      <td>8176</td>\n",
              "    </tr>\n",
              "    <tr>\n",
              "      <th>0.0</th>\n",
              "      <td>5864</td>\n",
              "    </tr>\n",
              "  </tbody>\n",
              "</table><br><label><b>dtype:</b> int64</label>"
            ]
          },
          "metadata": {},
          "execution_count": 8
        }
      ]
    },
    {
      "cell_type": "code",
      "source": [
        "8176/(8176+5864)"
      ],
      "metadata": {
        "colab": {
          "base_uri": "https://localhost:8080/"
        },
        "id": "G_hKbWJBbOy-",
        "outputId": "7aab158c-9158-4e53-a434-1160250a6749"
      },
      "execution_count": null,
      "outputs": [
        {
          "output_type": "execute_result",
          "data": {
            "text/plain": [
              "0.5823361823361823"
            ]
          },
          "metadata": {},
          "execution_count": 9
        }
      ]
    },
    {
      "cell_type": "code",
      "source": [
        "from sklearn.preprocessing import OneHotEncoder, OrdinalEncoder\n",
        "\n",
        "ohe = OneHotEncoder(handle_unknown='ignore')\n",
        "nominal_encoded = ohe.fit_transform(nominal)\n",
        "\n",
        "oe = OrdinalEncoder()\n",
        "ordinal_encoded = oe.fit_transform(ordinal)"
      ],
      "metadata": {
        "id": "HDZpX92lbZfJ"
      },
      "execution_count": null,
      "outputs": []
    },
    {
      "cell_type": "code",
      "source": [
        "from scipy.sparse import hstack\n",
        "\n",
        "\n",
        "binary_encoded = binary_columns.values  # Convert to a NumPy array\n",
        "\n",
        "\n",
        "combined_features = hstack((nominal_encoded, ordinal_encoded, continuous.values, binary_encoded))\n",
        "\n",
        "\n",
        "combined_df = pd.DataFrame(combined_features.toarray())\n",
        "\n",
        "nominal_columns = ohe.get_feature_names_out(nominal.columns)\n",
        "ordinal_columns = oe.get_feature_names_out(ordinal.columns)\n",
        "continuous_columns = continuous.columns\n",
        "binary_columns = binary_columns.columns\n",
        "\n",
        "all_columns = list(nominal_columns) + list(ordinal_columns) + list(continuous_columns) + list(binary_columns)\n",
        "combined_df.columns = all_columns\n",
        "\n",
        "print(combined_df.head())"
      ],
      "metadata": {
        "colab": {
          "base_uri": "https://localhost:8080/"
        },
        "id": "dd1__bT5bcfc",
        "outputId": "a6970df9-066a-4c4e-caca-633a6d685edc"
      },
      "execution_count": null,
      "outputs": [
        {
          "output_type": "stream",
          "name": "stdout",
          "text": [
            "   player_Aaron Baddeley  player_Aaron Wise  player_Abraham Ancer  \\\n",
            "0                    0.0                0.0                   0.0   \n",
            "1                    0.0                0.0                   0.0   \n",
            "2                    0.0                0.0                   0.0   \n",
            "3                    0.0                0.0                   0.0   \n",
            "4                    0.0                0.0                   0.0   \n",
            "\n",
            "   player_Adam Hadwin  player_Adam Long  player_Adam Schenk  \\\n",
            "0                 0.0               0.0                 0.0   \n",
            "1                 0.0               0.0                 0.0   \n",
            "2                 0.0               0.0                 0.0   \n",
            "3                 0.0               0.0                 0.0   \n",
            "4                 0.0               0.0                 0.0   \n",
            "\n",
            "   player_Adam Scott  player_Adam Svensson  player_Alex Cejka  \\\n",
            "0                0.0                   0.0                0.0   \n",
            "1                0.0                   0.0                0.0   \n",
            "2                0.0                   0.0                0.0   \n",
            "3                0.0                   0.0                0.0   \n",
            "4                0.0                   0.0                0.0   \n",
            "\n",
            "   player_Alex Noren  ...  pressure  tempC  visibility  winddirDegree  \\\n",
            "0                0.0  ...    1011.0   32.0        10.0          224.0   \n",
            "1                0.0  ...    1015.0   29.0         9.0          208.0   \n",
            "2                0.0  ...    1013.0   33.0        10.0          211.0   \n",
            "3                0.0  ...    1013.0   30.0         8.0          237.0   \n",
            "4                0.0  ...    1014.0   31.0        10.0          149.0   \n",
            "\n",
            "   windspeedKmph  Length  major  made_cut  Number of Rounds  Water  \n",
            "0            3.0  6532.0    0.0       0.0               2.0    1.0  \n",
            "1           11.0  7447.0    0.0       1.0               4.0    1.0  \n",
            "2           11.0  7244.0    0.0       0.0               2.0    1.0  \n",
            "3            6.0  7258.0    0.0       0.0               2.0    1.0  \n",
            "4            9.0  7334.0    0.0       0.0               2.0    1.0  \n",
            "\n",
            "[5 rows x 776 columns]\n"
          ]
        }
      ]
    },
    {
      "cell_type": "code",
      "source": [
        "df_combined = combined_df.copy()\n",
        "df_combined = df_combined.dropna()"
      ],
      "metadata": {
        "id": "a8lGAZaJbgGx"
      },
      "execution_count": null,
      "outputs": []
    },
    {
      "cell_type": "code",
      "source": [
        "from sklearn.ensemble import RandomForestClassifier, ExtraTreesClassifier\n",
        "from sklearn.preprocessing import StandardScaler\n",
        "from sklearn.metrics import accuracy_score, f1_score\n",
        "\n",
        "y = df_combined['made_cut']\n",
        "X = df_combined.drop('made_cut', axis=1)\n",
        "\n",
        "scaler = StandardScaler()\n",
        "X_scaled = scaler.fit_transform(X)\n",
        "\n",
        "rf_clf = RandomForestClassifier(random_state=42)\n",
        "et_clf = ExtraTreesClassifier(random_state=42)\n",
        "\n",
        "rf_clf.fit(X_scaled, y)\n",
        "et_clf.fit(X_scaled, y)\n",
        "\n",
        "rf_importances = rf_clf.feature_importances_\n",
        "et_importances = et_clf.feature_importances_\n",
        "all_feature_names = X.columns\n",
        "feature_importances_df = pd.DataFrame({\n",
        "    'Feature': all_feature_names,\n",
        "    'Random Forest Importance': rf_importances,\n",
        "    'Extra Trees Importance': et_importances\n",
        "})\n",
        "\n",
        "print(feature_importances_df)\n",
        "\n",
        "\n",
        "# Predictions\n",
        "y_pred_rf = rf_clf.predict(X_scaled)\n",
        "y_pred_et = et_clf.predict(X_scaled)\n",
        "\n",
        "# Calculate metrics\n",
        "accuracy_rf = accuracy_score(y, y_pred_rf)\n",
        "f1_rf = f1_score(y, y_pred_rf)\n",
        "\n",
        "accuracy_et = accuracy_score(y, y_pred_et)\n",
        "f1_et = f1_score(y, y_pred_et)\n",
        "\n",
        "print(\"Random Forest - Accuracy:\", accuracy_rf)\n",
        "print(\"Random Forest - F1 Score:\", f1_rf)\n",
        "\n",
        "print(\"Extra Trees - Accuracy:\", accuracy_et)\n",
        "print(\"Extra Trees - F1 Score:\", f1_et)"
      ],
      "metadata": {
        "colab": {
          "base_uri": "https://localhost:8080/"
        },
        "id": "tO6t0wnmbk2D",
        "outputId": "85e6f19c-c791-4fb2-c17a-6087bf0709c2"
      },
      "execution_count": null,
      "outputs": [
        {
          "output_type": "stream",
          "name": "stdout",
          "text": [
            "                   Feature  Random Forest Importance  Extra Trees Importance\n",
            "0    player_Aaron Baddeley                  0.000035                0.000083\n",
            "1        player_Aaron Wise                  0.000042                0.000078\n",
            "2     player_Abraham Ancer                  0.000094                0.000092\n",
            "3       player_Adam Hadwin                  0.000101                0.000200\n",
            "4         player_Adam Long                  0.000045                0.000077\n",
            "..                     ...                       ...                     ...\n",
            "770          windspeedKmph                  0.001648                0.001108\n",
            "771                 Length                  0.001750                0.001205\n",
            "772                  major                  0.000280                0.000286\n",
            "773       Number of Rounds                  0.260442                0.378338\n",
            "774                  Water                  0.000196                0.000525\n",
            "\n",
            "[775 rows x 3 columns]\n",
            "Random Forest - Accuracy: 1.0\n",
            "Random Forest - F1 Score: 1.0\n",
            "Extra Trees - Accuracy: 1.0\n",
            "Extra Trees - F1 Score: 1.0\n"
          ]
        }
      ]
    },
    {
      "cell_type": "code",
      "source": [
        "feature_importances_df.to_excel('feature_importance2222.xlsx', index=False)"
      ],
      "metadata": {
        "id": "S1J8KeQJbrO0"
      },
      "execution_count": null,
      "outputs": []
    },
    {
      "cell_type": "code",
      "source": [
        "df['made_cut'].value_counts()"
      ],
      "metadata": {
        "colab": {
          "base_uri": "https://localhost:8080/",
          "height": 178
        },
        "id": "SUmUbbR7buHm",
        "outputId": "c1bf94ad-01ae-4a93-aec9-cf2b6478e5fb"
      },
      "execution_count": null,
      "outputs": [
        {
          "output_type": "execute_result",
          "data": {
            "text/plain": [
              "made_cut\n",
              "1.0    8176\n",
              "0.0    5864\n",
              "Name: count, dtype: int64"
            ],
            "text/html": [
              "<table border=\"1\" class=\"dataframe\">\n",
              "  <thead>\n",
              "    <tr style=\"text-align: right;\">\n",
              "      <th></th>\n",
              "      <th>count</th>\n",
              "    </tr>\n",
              "    <tr>\n",
              "      <th>made_cut</th>\n",
              "      <th></th>\n",
              "    </tr>\n",
              "  </thead>\n",
              "  <tbody>\n",
              "    <tr>\n",
              "      <th>1.0</th>\n",
              "      <td>8176</td>\n",
              "    </tr>\n",
              "    <tr>\n",
              "      <th>0.0</th>\n",
              "      <td>5864</td>\n",
              "    </tr>\n",
              "  </tbody>\n",
              "</table><br><label><b>dtype:</b> int64</label>"
            ]
          },
          "metadata": {},
          "execution_count": 15
        }
      ]
    },
    {
      "cell_type": "code",
      "source": [
        "new_df = df.dropna()"
      ],
      "metadata": {
        "id": "IF3WFQSYbyJO"
      },
      "execution_count": null,
      "outputs": []
    },
    {
      "cell_type": "code",
      "source": [
        "new_df['made_cut'].value_counts()"
      ],
      "metadata": {
        "colab": {
          "base_uri": "https://localhost:8080/",
          "height": 178
        },
        "id": "wpGsX4lNb0QG",
        "outputId": "0234e219-4146-42a6-ca9d-27f339a56a3f"
      },
      "execution_count": null,
      "outputs": [
        {
          "output_type": "execute_result",
          "data": {
            "text/plain": [
              "made_cut\n",
              "1.0    5533\n",
              "0.0    4286\n",
              "Name: count, dtype: int64"
            ],
            "text/html": [
              "<table border=\"1\" class=\"dataframe\">\n",
              "  <thead>\n",
              "    <tr style=\"text-align: right;\">\n",
              "      <th></th>\n",
              "      <th>count</th>\n",
              "    </tr>\n",
              "    <tr>\n",
              "      <th>made_cut</th>\n",
              "      <th></th>\n",
              "    </tr>\n",
              "  </thead>\n",
              "  <tbody>\n",
              "    <tr>\n",
              "      <th>1.0</th>\n",
              "      <td>5533</td>\n",
              "    </tr>\n",
              "    <tr>\n",
              "      <th>0.0</th>\n",
              "      <td>4286</td>\n",
              "    </tr>\n",
              "  </tbody>\n",
              "</table><br><label><b>dtype:</b> int64</label>"
            ]
          },
          "metadata": {},
          "execution_count": 17
        }
      ]
    },
    {
      "cell_type": "code",
      "source": [
        "nominal = new_df[['GreensGrass', 'FariwaysGrass', 'Par', 'season']]\n",
        "ordinal = new_df[['Height cm', 'Weight lbs', 'Age', 'Slope', 'Bunkers']]\n",
        "continuous = new_df[['Consecutive_Cuts_Made',\n",
        "              'sg_putt',\t'sg_arg',\t'sg_app',\t'sg_ott',\t'sg_t2g',\t'sg_total', 'Drive Yards', 'Fairways Hit',\n",
        "              'PUTTS/HOLE', 'maxtempC', 'mintempC', 'totalSnow_cm', 'sunHour',\n",
        "              'uvIndex', 'moon_illumination', 'DewPointC', 'FeelsLikeC', 'HeatIndexC', 'WindChillC',\n",
        "               'WindGustKmph', 'cloudcover', 'humidity', 'precipMM',\n",
        "               'pressure', 'tempC', 'visibility', 'winddirDegree', 'windspeedKmph', 'Length']]\n",
        "binary_columns = new_df[['major', 'made_cut', 'Water']]"
      ],
      "metadata": {
        "id": "NSWPJ3Qfb3S-"
      },
      "execution_count": null,
      "outputs": []
    },
    {
      "cell_type": "code",
      "source": [
        "from sklearn.preprocessing import OneHotEncoder, OrdinalEncoder\n",
        "\n",
        "ohe = OneHotEncoder(handle_unknown='ignore')\n",
        "nominal_encoded = ohe.fit_transform(nominal)\n",
        "\n",
        "oe = OrdinalEncoder()\n",
        "ordinal_encoded = oe.fit_transform(ordinal)\n",
        "\n",
        "from scipy.sparse import hstack\n",
        "\n",
        "\n",
        "binary_encoded = binary_columns.values  # Convert to a NumPy array\n",
        "\n",
        "\n",
        "combined_features = hstack((nominal_encoded, ordinal_encoded, continuous.values, binary_encoded))\n",
        "\n",
        "\n",
        "combined_df = pd.DataFrame(combined_features.toarray())\n",
        "\n",
        "\n",
        "nominal_columns = ohe.get_feature_names_out(nominal.columns)\n",
        "ordinal_columns = oe.get_feature_names_out(ordinal.columns)\n",
        "continuous_columns = continuous.columns\n",
        "binary_columns = binary_columns.columns\n",
        "\n",
        "all_columns = list(nominal_columns) + list(ordinal_columns) + list(continuous_columns) + list(binary_columns)\n",
        "combined_df.columns = all_columns\n",
        "\n",
        "print(combined_df.head())"
      ],
      "metadata": {
        "colab": {
          "base_uri": "https://localhost:8080/"
        },
        "id": "YMjC3qaCb6AR",
        "outputId": "23d83499-588e-40f7-9c9b-b728c04f5399"
      },
      "execution_count": null,
      "outputs": [
        {
          "output_type": "stream",
          "name": "stdout",
          "text": [
            "   GreensGrass_1.0  GreensGrass_2.0  GreensGrass_4.0  GreensGrass_5.0  \\\n",
            "0              0.0              1.0              0.0              0.0   \n",
            "1              1.0              0.0              0.0              0.0   \n",
            "2              1.0              0.0              0.0              0.0   \n",
            "3              1.0              0.0              0.0              0.0   \n",
            "4              1.0              0.0              0.0              0.0   \n",
            "\n",
            "   FariwaysGrass_1.0  FariwaysGrass_2.0  FariwaysGrass_3.0  FariwaysGrass_5.0  \\\n",
            "0                0.0                0.0                0.0                0.0   \n",
            "1                0.0                0.0                0.0                0.0   \n",
            "2                1.0                0.0                0.0                0.0   \n",
            "3                1.0                0.0                0.0                0.0   \n",
            "4                1.0                0.0                0.0                0.0   \n",
            "\n",
            "   FariwaysGrass_6.0  FariwaysGrass_7.0  ...  precipMM  pressure  tempC  \\\n",
            "0                0.0                0.0  ...      10.1    1015.0   29.0   \n",
            "1                0.0                0.0  ...       0.1    1013.0   33.0   \n",
            "2                0.0                0.0  ...       0.7    1013.0   30.0   \n",
            "3                0.0                0.0  ...       0.0    1014.0   31.0   \n",
            "4                0.0                0.0  ...       0.0    1017.0   33.0   \n",
            "\n",
            "   visibility  winddirDegree  windspeedKmph  Length  major  made_cut  Water  \n",
            "0         9.0          208.0           11.0  7447.0    0.0       1.0    1.0  \n",
            "1        10.0          211.0           11.0  7244.0    0.0       0.0    1.0  \n",
            "2         8.0          237.0            6.0  7258.0    0.0       0.0    1.0  \n",
            "3        10.0          149.0            9.0  7334.0    0.0       0.0    1.0  \n",
            "4        10.0           97.0           22.0  7334.0    0.0       0.0    1.0  \n",
            "\n",
            "[5 rows x 57 columns]\n"
          ]
        }
      ]
    },
    {
      "cell_type": "code",
      "source": [
        "df_combined = combined_df.copy()"
      ],
      "metadata": {
        "id": "TGEWP7V2b9Ui"
      },
      "execution_count": null,
      "outputs": []
    },
    {
      "cell_type": "code",
      "source": [
        "from sklearn.ensemble import RandomForestClassifier, ExtraTreesClassifier\n",
        "from sklearn.preprocessing import StandardScaler\n",
        "from sklearn.metrics import accuracy_score, f1_score\n",
        "\n",
        "y = df_combined['made_cut']\n",
        "X = df_combined.drop('made_cut', axis=1)\n",
        "\n",
        "scaler = StandardScaler()\n",
        "X_scaled = scaler.fit_transform(X)\n",
        "\n",
        "rf_clf = RandomForestClassifier(random_state=42)\n",
        "et_clf = ExtraTreesClassifier(random_state=42)\n",
        "\n",
        "rf_clf.fit(X_scaled, y)\n",
        "et_clf.fit(X_scaled, y)\n",
        "\n",
        "rf_importances = rf_clf.feature_importances_\n",
        "et_importances = et_clf.feature_importances_\n",
        "all_feature_names = X.columns\n",
        "feature_importances_df = pd.DataFrame({\n",
        "    'Feature': all_feature_names,\n",
        "    'Random Forest Importance': rf_importances,\n",
        "    'Extra Trees Importance': et_importances\n",
        "})\n",
        "\n",
        "print(feature_importances_df)\n",
        "\n",
        "\n",
        "# Predictions\n",
        "y_pred_rf = rf_clf.predict(X_scaled)\n",
        "y_pred_et = et_clf.predict(X_scaled)\n",
        "\n",
        "# Calculate metrics\n",
        "accuracy_rf = accuracy_score(y, y_pred_rf)\n",
        "f1_rf = f1_score(y, y_pred_rf)\n",
        "\n",
        "accuracy_et = accuracy_score(y, y_pred_et)\n",
        "f1_et = f1_score(y, y_pred_et)\n",
        "\n",
        "print(\"Random Forest - Accuracy:\", accuracy_rf)\n",
        "print(\"Random Forest - F1 Score:\", f1_rf)\n",
        "\n",
        "print(\"Extra Trees - Accuracy:\", accuracy_et)\n",
        "print(\"Extra Trees - F1 Score:\", f1_et)"
      ],
      "metadata": {
        "colab": {
          "base_uri": "https://localhost:8080/"
        },
        "id": "PchZIm8xcBHy",
        "outputId": "4d5471c0-e2fd-4daf-81f1-18f601892bab"
      },
      "execution_count": null,
      "outputs": [
        {
          "output_type": "stream",
          "name": "stdout",
          "text": [
            "                  Feature  Random Forest Importance  Extra Trees Importance\n",
            "0         GreensGrass_1.0                  0.001763                0.003330\n",
            "1         GreensGrass_2.0                  0.001563                0.003260\n",
            "2         GreensGrass_4.0                  0.001196                0.001882\n",
            "3         GreensGrass_5.0                  0.000485                0.000810\n",
            "4       FariwaysGrass_1.0                  0.001710                0.003235\n",
            "5       FariwaysGrass_2.0                  0.001733                0.003360\n",
            "6       FariwaysGrass_3.0                  0.000764                0.001425\n",
            "7       FariwaysGrass_5.0                  0.001049                0.002087\n",
            "8       FariwaysGrass_6.0                  0.000134                0.000267\n",
            "9       FariwaysGrass_7.0                  0.000717                0.001137\n",
            "10      FariwaysGrass_8.0                  0.002540                0.004003\n",
            "11               Par_70.0                  0.001855                0.002981\n",
            "12               Par_71.0                  0.001909                0.003866\n",
            "13               Par_72.0                  0.001847                0.004282\n",
            "14               Par_73.0                  0.000547                0.001120\n",
            "15          season_2018.0                  0.001911                0.004095\n",
            "16          season_2019.0                  0.001674                0.004035\n",
            "17          season_2020.0                  0.001990                0.004402\n",
            "18          season_2021.0                  0.002441                0.003531\n",
            "19              Height cm                  0.015213                0.028576\n",
            "20             Weight lbs                  0.018515                0.029408\n",
            "21                    Age                  0.021452                0.031506\n",
            "22                  Slope                  0.010151                0.008316\n",
            "23                Bunkers                  0.006187                0.005862\n",
            "24  Consecutive_Cuts_Made                  0.013874                0.028048\n",
            "25                sg_putt                  0.106076                0.104739\n",
            "26                 sg_arg                  0.050987                0.050814\n",
            "27                 sg_app                  0.071419                0.072271\n",
            "28                 sg_ott                  0.051814                0.049721\n",
            "29                 sg_t2g                  0.112976                0.111042\n",
            "30               sg_total                  0.258350                0.203999\n",
            "31            Drive Yards                  0.025756                0.032758\n",
            "32           Fairways Hit                  0.024903                0.031473\n",
            "33             PUTTS/HOLE                  0.021066                0.033534\n",
            "34               maxtempC                  0.007657                0.006056\n",
            "35               mintempC                  0.008062                0.006510\n",
            "36           totalSnow_cm                  0.000187                0.000624\n",
            "37                sunHour                  0.008621                0.006548\n",
            "38                uvIndex                  0.004253                0.005320\n",
            "39      moon_illumination                  0.010625                0.007566\n",
            "40              DewPointC                  0.009061                0.006269\n",
            "41             FeelsLikeC                  0.008920                0.006694\n",
            "42             HeatIndexC                  0.008215                0.006292\n",
            "43             WindChillC                  0.008398                0.006662\n",
            "44           WindGustKmph                  0.009255                0.006584\n",
            "45             cloudcover                  0.009894                0.006750\n",
            "46               humidity                  0.009925                0.006529\n",
            "47               precipMM                  0.005836                0.005364\n",
            "48               pressure                  0.009602                0.006581\n",
            "49                  tempC                  0.008278                0.006457\n",
            "50             visibility                  0.002621                0.003811\n",
            "51          winddirDegree                  0.011538                0.006724\n",
            "52          windspeedKmph                  0.008382                0.007046\n",
            "53                 Length                  0.012485                0.007517\n",
            "54                  major                  0.000685                0.001239\n",
            "55                  Water                  0.000933                0.001681\n",
            "Random Forest - Accuracy: 1.0\n",
            "Random Forest - F1 Score: 1.0\n",
            "Extra Trees - Accuracy: 1.0\n",
            "Extra Trees - F1 Score: 1.0\n"
          ]
        }
      ]
    },
    {
      "cell_type": "code",
      "source": [
        "feature_importances_df.to_excel('feature_importance_updated_29_07_24.xlsx', index=False)"
      ],
      "metadata": {
        "id": "0If-2IklcEst"
      },
      "execution_count": null,
      "outputs": []
    },
    {
      "cell_type": "code",
      "source": [
        "selected = [\n",
        "    \"sg_total\",\n",
        "    \"sg_t2g\",\n",
        "    \"sg_putt\",\n",
        "    \"sg_app\",\n",
        "    \"sg_ott\",\n",
        "    \"sg_arg\",\n",
        "    #\"Drive Yards\",\n",
        "    \"Fairways Hit\",\n",
        "    #\"Age\",\n",
        "    \"PUTTS/HOLE\",\n",
        "    #\"Weight lbs\",\n",
        "    #\"Height cm\",\n",
        "    #\"Consecutive_Cuts_Made\",\n",
        "    \"Length\",\n",
        "    #\"winddirDegree\",\n",
        "    #\"moon_illumination\",\n",
        "    \"Slope\",\n",
        "    \"humidity\",\n",
        "    #\"cloudcover\",\n",
        "    \"pressure\",\n",
        "    #\"WindGustKmph\",\n",
        "    #\"DewPointC\",\n",
        "    #\"FeelsLikeC\",\n",
        "    #\"sunHour\",\n",
        "    #\"WindChillC\",\n",
        "    #\"windspeedKmph\",\n",
        "    \"tempC\",\n",
        "    #\"HeatIndexC\",\n",
        "    #\"mintempC\",\n",
        "    #\"maxtempC\",\n",
        "    \"Bunkers\",\n",
        "    #\"precipMM\",\n",
        "    #\"uvIndex\",\n",
        "    #\"visibility\",\n",
        "    'made_cut'\n",
        "]\n",
        "\n",
        "dataset = df_combined[selected]"
      ],
      "metadata": {
        "id": "HNNTEu5scF5c"
      },
      "execution_count": null,
      "outputs": []
    },
    {
      "cell_type": "code",
      "source": [
        "dataset.head()"
      ],
      "metadata": {
        "colab": {
          "base_uri": "https://localhost:8080/",
          "height": 206
        },
        "id": "og2qlTNvcMBb",
        "outputId": "10586b3b-61b7-4b70-bac4-7981ecdeaed2"
      },
      "execution_count": null,
      "outputs": [
        {
          "output_type": "execute_result",
          "data": {
            "text/plain": [
              "   sg_total  sg_t2g  sg_putt  sg_app  sg_ott  sg_arg  Fairways Hit  \\\n",
              "0     -2.07   -3.12     1.06   -1.07   -0.73   -1.32          65.6   \n",
              "1     -0.85    0.22    -1.07    0.71   -0.01   -0.48          65.6   \n",
              "2     -3.25   -1.47    -1.78   -0.77   -0.52   -0.18          65.6   \n",
              "3     -1.87    0.42    -2.30    1.13   -0.10   -0.61          65.6   \n",
              "4     -5.17   -2.83    -2.34   -2.23   -0.22   -0.38          60.7   \n",
              "\n",
              "   PUTTS/HOLE  Length  Slope  humidity  pressure  tempC  Bunkers  made_cut  \n",
              "0        1.84  7447.0    4.0      68.0    1015.0   29.0      3.0       1.0  \n",
              "1        1.84  7244.0   17.0      59.0    1013.0   33.0      6.0       0.0  \n",
              "2        1.84  7258.0    7.0      86.0    1013.0   30.0      5.0       0.0  \n",
              "3        1.84  7334.0    8.0      31.0    1014.0   31.0      2.0       0.0  \n",
              "4        1.77  7334.0    8.0      41.0    1017.0   33.0      2.0       0.0  "
            ],
            "text/html": [
              "\n",
              "  <div id=\"df-5f1a0874-7888-4510-80f2-3f3996396202\" class=\"colab-df-container\">\n",
              "    <div>\n",
              "<style scoped>\n",
              "    .dataframe tbody tr th:only-of-type {\n",
              "        vertical-align: middle;\n",
              "    }\n",
              "\n",
              "    .dataframe tbody tr th {\n",
              "        vertical-align: top;\n",
              "    }\n",
              "\n",
              "    .dataframe thead th {\n",
              "        text-align: right;\n",
              "    }\n",
              "</style>\n",
              "<table border=\"1\" class=\"dataframe\">\n",
              "  <thead>\n",
              "    <tr style=\"text-align: right;\">\n",
              "      <th></th>\n",
              "      <th>sg_total</th>\n",
              "      <th>sg_t2g</th>\n",
              "      <th>sg_putt</th>\n",
              "      <th>sg_app</th>\n",
              "      <th>sg_ott</th>\n",
              "      <th>sg_arg</th>\n",
              "      <th>Fairways Hit</th>\n",
              "      <th>PUTTS/HOLE</th>\n",
              "      <th>Length</th>\n",
              "      <th>Slope</th>\n",
              "      <th>humidity</th>\n",
              "      <th>pressure</th>\n",
              "      <th>tempC</th>\n",
              "      <th>Bunkers</th>\n",
              "      <th>made_cut</th>\n",
              "    </tr>\n",
              "  </thead>\n",
              "  <tbody>\n",
              "    <tr>\n",
              "      <th>0</th>\n",
              "      <td>-2.07</td>\n",
              "      <td>-3.12</td>\n",
              "      <td>1.06</td>\n",
              "      <td>-1.07</td>\n",
              "      <td>-0.73</td>\n",
              "      <td>-1.32</td>\n",
              "      <td>65.6</td>\n",
              "      <td>1.84</td>\n",
              "      <td>7447.0</td>\n",
              "      <td>4.0</td>\n",
              "      <td>68.0</td>\n",
              "      <td>1015.0</td>\n",
              "      <td>29.0</td>\n",
              "      <td>3.0</td>\n",
              "      <td>1.0</td>\n",
              "    </tr>\n",
              "    <tr>\n",
              "      <th>1</th>\n",
              "      <td>-0.85</td>\n",
              "      <td>0.22</td>\n",
              "      <td>-1.07</td>\n",
              "      <td>0.71</td>\n",
              "      <td>-0.01</td>\n",
              "      <td>-0.48</td>\n",
              "      <td>65.6</td>\n",
              "      <td>1.84</td>\n",
              "      <td>7244.0</td>\n",
              "      <td>17.0</td>\n",
              "      <td>59.0</td>\n",
              "      <td>1013.0</td>\n",
              "      <td>33.0</td>\n",
              "      <td>6.0</td>\n",
              "      <td>0.0</td>\n",
              "    </tr>\n",
              "    <tr>\n",
              "      <th>2</th>\n",
              "      <td>-3.25</td>\n",
              "      <td>-1.47</td>\n",
              "      <td>-1.78</td>\n",
              "      <td>-0.77</td>\n",
              "      <td>-0.52</td>\n",
              "      <td>-0.18</td>\n",
              "      <td>65.6</td>\n",
              "      <td>1.84</td>\n",
              "      <td>7258.0</td>\n",
              "      <td>7.0</td>\n",
              "      <td>86.0</td>\n",
              "      <td>1013.0</td>\n",
              "      <td>30.0</td>\n",
              "      <td>5.0</td>\n",
              "      <td>0.0</td>\n",
              "    </tr>\n",
              "    <tr>\n",
              "      <th>3</th>\n",
              "      <td>-1.87</td>\n",
              "      <td>0.42</td>\n",
              "      <td>-2.30</td>\n",
              "      <td>1.13</td>\n",
              "      <td>-0.10</td>\n",
              "      <td>-0.61</td>\n",
              "      <td>65.6</td>\n",
              "      <td>1.84</td>\n",
              "      <td>7334.0</td>\n",
              "      <td>8.0</td>\n",
              "      <td>31.0</td>\n",
              "      <td>1014.0</td>\n",
              "      <td>31.0</td>\n",
              "      <td>2.0</td>\n",
              "      <td>0.0</td>\n",
              "    </tr>\n",
              "    <tr>\n",
              "      <th>4</th>\n",
              "      <td>-5.17</td>\n",
              "      <td>-2.83</td>\n",
              "      <td>-2.34</td>\n",
              "      <td>-2.23</td>\n",
              "      <td>-0.22</td>\n",
              "      <td>-0.38</td>\n",
              "      <td>60.7</td>\n",
              "      <td>1.77</td>\n",
              "      <td>7334.0</td>\n",
              "      <td>8.0</td>\n",
              "      <td>41.0</td>\n",
              "      <td>1017.0</td>\n",
              "      <td>33.0</td>\n",
              "      <td>2.0</td>\n",
              "      <td>0.0</td>\n",
              "    </tr>\n",
              "  </tbody>\n",
              "</table>\n",
              "</div>\n",
              "    <div class=\"colab-df-buttons\">\n",
              "\n",
              "  <div class=\"colab-df-container\">\n",
              "    <button class=\"colab-df-convert\" onclick=\"convertToInteractive('df-5f1a0874-7888-4510-80f2-3f3996396202')\"\n",
              "            title=\"Convert this dataframe to an interactive table.\"\n",
              "            style=\"display:none;\">\n",
              "\n",
              "  <svg xmlns=\"http://www.w3.org/2000/svg\" height=\"24px\" viewBox=\"0 -960 960 960\">\n",
              "    <path d=\"M120-120v-720h720v720H120Zm60-500h600v-160H180v160Zm220 220h160v-160H400v160Zm0 220h160v-160H400v160ZM180-400h160v-160H180v160Zm440 0h160v-160H620v160ZM180-180h160v-160H180v160Zm440 0h160v-160H620v160Z\"/>\n",
              "  </svg>\n",
              "    </button>\n",
              "\n",
              "  <style>\n",
              "    .colab-df-container {\n",
              "      display:flex;\n",
              "      gap: 12px;\n",
              "    }\n",
              "\n",
              "    .colab-df-convert {\n",
              "      background-color: #E8F0FE;\n",
              "      border: none;\n",
              "      border-radius: 50%;\n",
              "      cursor: pointer;\n",
              "      display: none;\n",
              "      fill: #1967D2;\n",
              "      height: 32px;\n",
              "      padding: 0 0 0 0;\n",
              "      width: 32px;\n",
              "    }\n",
              "\n",
              "    .colab-df-convert:hover {\n",
              "      background-color: #E2EBFA;\n",
              "      box-shadow: 0px 1px 2px rgba(60, 64, 67, 0.3), 0px 1px 3px 1px rgba(60, 64, 67, 0.15);\n",
              "      fill: #174EA6;\n",
              "    }\n",
              "\n",
              "    .colab-df-buttons div {\n",
              "      margin-bottom: 4px;\n",
              "    }\n",
              "\n",
              "    [theme=dark] .colab-df-convert {\n",
              "      background-color: #3B4455;\n",
              "      fill: #D2E3FC;\n",
              "    }\n",
              "\n",
              "    [theme=dark] .colab-df-convert:hover {\n",
              "      background-color: #434B5C;\n",
              "      box-shadow: 0px 1px 3px 1px rgba(0, 0, 0, 0.15);\n",
              "      filter: drop-shadow(0px 1px 2px rgba(0, 0, 0, 0.3));\n",
              "      fill: #FFFFFF;\n",
              "    }\n",
              "  </style>\n",
              "\n",
              "    <script>\n",
              "      const buttonEl =\n",
              "        document.querySelector('#df-5f1a0874-7888-4510-80f2-3f3996396202 button.colab-df-convert');\n",
              "      buttonEl.style.display =\n",
              "        google.colab.kernel.accessAllowed ? 'block' : 'none';\n",
              "\n",
              "      async function convertToInteractive(key) {\n",
              "        const element = document.querySelector('#df-5f1a0874-7888-4510-80f2-3f3996396202');\n",
              "        const dataTable =\n",
              "          await google.colab.kernel.invokeFunction('convertToInteractive',\n",
              "                                                    [key], {});\n",
              "        if (!dataTable) return;\n",
              "\n",
              "        const docLinkHtml = 'Like what you see? Visit the ' +\n",
              "          '<a target=\"_blank\" href=https://colab.research.google.com/notebooks/data_table.ipynb>data table notebook</a>'\n",
              "          + ' to learn more about interactive tables.';\n",
              "        element.innerHTML = '';\n",
              "        dataTable['output_type'] = 'display_data';\n",
              "        await google.colab.output.renderOutput(dataTable, element);\n",
              "        const docLink = document.createElement('div');\n",
              "        docLink.innerHTML = docLinkHtml;\n",
              "        element.appendChild(docLink);\n",
              "      }\n",
              "    </script>\n",
              "  </div>\n",
              "\n",
              "\n",
              "<div id=\"df-e3348853-7487-4eef-a941-b569ff35c37b\">\n",
              "  <button class=\"colab-df-quickchart\" onclick=\"quickchart('df-e3348853-7487-4eef-a941-b569ff35c37b')\"\n",
              "            title=\"Suggest charts\"\n",
              "            style=\"display:none;\">\n",
              "\n",
              "<svg xmlns=\"http://www.w3.org/2000/svg\" height=\"24px\"viewBox=\"0 0 24 24\"\n",
              "     width=\"24px\">\n",
              "    <g>\n",
              "        <path d=\"M19 3H5c-1.1 0-2 .9-2 2v14c0 1.1.9 2 2 2h14c1.1 0 2-.9 2-2V5c0-1.1-.9-2-2-2zM9 17H7v-7h2v7zm4 0h-2V7h2v10zm4 0h-2v-4h2v4z\"/>\n",
              "    </g>\n",
              "</svg>\n",
              "  </button>\n",
              "\n",
              "<style>\n",
              "  .colab-df-quickchart {\n",
              "      --bg-color: #E8F0FE;\n",
              "      --fill-color: #1967D2;\n",
              "      --hover-bg-color: #E2EBFA;\n",
              "      --hover-fill-color: #174EA6;\n",
              "      --disabled-fill-color: #AAA;\n",
              "      --disabled-bg-color: #DDD;\n",
              "  }\n",
              "\n",
              "  [theme=dark] .colab-df-quickchart {\n",
              "      --bg-color: #3B4455;\n",
              "      --fill-color: #D2E3FC;\n",
              "      --hover-bg-color: #434B5C;\n",
              "      --hover-fill-color: #FFFFFF;\n",
              "      --disabled-bg-color: #3B4455;\n",
              "      --disabled-fill-color: #666;\n",
              "  }\n",
              "\n",
              "  .colab-df-quickchart {\n",
              "    background-color: var(--bg-color);\n",
              "    border: none;\n",
              "    border-radius: 50%;\n",
              "    cursor: pointer;\n",
              "    display: none;\n",
              "    fill: var(--fill-color);\n",
              "    height: 32px;\n",
              "    padding: 0;\n",
              "    width: 32px;\n",
              "  }\n",
              "\n",
              "  .colab-df-quickchart:hover {\n",
              "    background-color: var(--hover-bg-color);\n",
              "    box-shadow: 0 1px 2px rgba(60, 64, 67, 0.3), 0 1px 3px 1px rgba(60, 64, 67, 0.15);\n",
              "    fill: var(--button-hover-fill-color);\n",
              "  }\n",
              "\n",
              "  .colab-df-quickchart-complete:disabled,\n",
              "  .colab-df-quickchart-complete:disabled:hover {\n",
              "    background-color: var(--disabled-bg-color);\n",
              "    fill: var(--disabled-fill-color);\n",
              "    box-shadow: none;\n",
              "  }\n",
              "\n",
              "  .colab-df-spinner {\n",
              "    border: 2px solid var(--fill-color);\n",
              "    border-color: transparent;\n",
              "    border-bottom-color: var(--fill-color);\n",
              "    animation:\n",
              "      spin 1s steps(1) infinite;\n",
              "  }\n",
              "\n",
              "  @keyframes spin {\n",
              "    0% {\n",
              "      border-color: transparent;\n",
              "      border-bottom-color: var(--fill-color);\n",
              "      border-left-color: var(--fill-color);\n",
              "    }\n",
              "    20% {\n",
              "      border-color: transparent;\n",
              "      border-left-color: var(--fill-color);\n",
              "      border-top-color: var(--fill-color);\n",
              "    }\n",
              "    30% {\n",
              "      border-color: transparent;\n",
              "      border-left-color: var(--fill-color);\n",
              "      border-top-color: var(--fill-color);\n",
              "      border-right-color: var(--fill-color);\n",
              "    }\n",
              "    40% {\n",
              "      border-color: transparent;\n",
              "      border-right-color: var(--fill-color);\n",
              "      border-top-color: var(--fill-color);\n",
              "    }\n",
              "    60% {\n",
              "      border-color: transparent;\n",
              "      border-right-color: var(--fill-color);\n",
              "    }\n",
              "    80% {\n",
              "      border-color: transparent;\n",
              "      border-right-color: var(--fill-color);\n",
              "      border-bottom-color: var(--fill-color);\n",
              "    }\n",
              "    90% {\n",
              "      border-color: transparent;\n",
              "      border-bottom-color: var(--fill-color);\n",
              "    }\n",
              "  }\n",
              "</style>\n",
              "\n",
              "  <script>\n",
              "    async function quickchart(key) {\n",
              "      const quickchartButtonEl =\n",
              "        document.querySelector('#' + key + ' button');\n",
              "      quickchartButtonEl.disabled = true;  // To prevent multiple clicks.\n",
              "      quickchartButtonEl.classList.add('colab-df-spinner');\n",
              "      try {\n",
              "        const charts = await google.colab.kernel.invokeFunction(\n",
              "            'suggestCharts', [key], {});\n",
              "      } catch (error) {\n",
              "        console.error('Error during call to suggestCharts:', error);\n",
              "      }\n",
              "      quickchartButtonEl.classList.remove('colab-df-spinner');\n",
              "      quickchartButtonEl.classList.add('colab-df-quickchart-complete');\n",
              "    }\n",
              "    (() => {\n",
              "      let quickchartButtonEl =\n",
              "        document.querySelector('#df-e3348853-7487-4eef-a941-b569ff35c37b button');\n",
              "      quickchartButtonEl.style.display =\n",
              "        google.colab.kernel.accessAllowed ? 'block' : 'none';\n",
              "    })();\n",
              "  </script>\n",
              "</div>\n",
              "\n",
              "    </div>\n",
              "  </div>\n"
            ],
            "application/vnd.google.colaboratory.intrinsic+json": {
              "type": "dataframe",
              "variable_name": "dataset",
              "summary": "{\n  \"name\": \"dataset\",\n  \"rows\": 9819,\n  \"fields\": [\n    {\n      \"column\": \"sg_total\",\n      \"properties\": {\n        \"dtype\": \"number\",\n        \"std\": 1.9517371027419215,\n        \"min\": -10.95,\n        \"max\": 5.96,\n        \"num_unique_values\": 1001,\n        \"samples\": [\n          3.49,\n          -4.88,\n          2.9\n        ],\n        \"semantic_type\": \"\",\n        \"description\": \"\"\n      }\n    },\n    {\n      \"column\": \"sg_t2g\",\n      \"properties\": {\n        \"dtype\": \"number\",\n        \"std\": 1.6012932293991997,\n        \"min\": -9.13,\n        \"max\": 5.57,\n        \"num_unique_values\": 901,\n        \"samples\": [\n          -1.5,\n          -0.5,\n          -0.82\n        ],\n        \"semantic_type\": \"\",\n        \"description\": \"\"\n      }\n    },\n    {\n      \"column\": \"sg_putt\",\n      \"properties\": {\n        \"dtype\": \"number\",\n        \"std\": 1.1055784352582723,\n        \"min\": -5.55,\n        \"max\": 3.98,\n        \"num_unique_values\": 647,\n        \"samples\": [\n          -3.09,\n          1.9,\n          -2.15\n        ],\n        \"semantic_type\": \"\",\n        \"description\": \"\"\n      }\n    },\n    {\n      \"column\": \"sg_app\",\n      \"properties\": {\n        \"dtype\": \"number\",\n        \"std\": 1.090208029514968,\n        \"min\": -6.98,\n        \"max\": 3.92,\n        \"num_unique_values\": 662,\n        \"samples\": [\n          1.86,\n          3.87,\n          1.54\n        ],\n        \"semantic_type\": \"\",\n        \"description\": \"\"\n      }\n    },\n    {\n      \"column\": \"sg_ott\",\n      \"properties\": {\n        \"dtype\": \"number\",\n        \"std\": 0.793864885170918,\n        \"min\": -5.73,\n        \"max\": 2.36,\n        \"num_unique_values\": 508,\n        \"samples\": [\n          0.96,\n          1.09,\n          -5.73\n        ],\n        \"semantic_type\": \"\",\n        \"description\": \"\"\n      }\n    },\n    {\n      \"column\": \"sg_arg\",\n      \"properties\": {\n        \"dtype\": \"number\",\n        \"std\": 0.7118422010230168,\n        \"min\": -4.26,\n        \"max\": 3.17,\n        \"num_unique_values\": 477,\n        \"samples\": [\n          -3.0,\n          -0.09,\n          0.73\n        ],\n        \"semantic_type\": \"\",\n        \"description\": \"\"\n      }\n    },\n    {\n      \"column\": \"Fairways Hit\",\n      \"properties\": {\n        \"dtype\": \"number\",\n        \"std\": 5.349608981768398,\n        \"min\": 40.5,\n        \"max\": 78.6,\n        \"num_unique_values\": 246,\n        \"samples\": [\n          69.8,\n          59.5,\n          56.0\n        ],\n        \"semantic_type\": \"\",\n        \"description\": \"\"\n      }\n    },\n    {\n      \"column\": \"PUTTS/HOLE\",\n      \"properties\": {\n        \"dtype\": \"number\",\n        \"std\": 0.02725464851205766,\n        \"min\": 1.68,\n        \"max\": 1.95,\n        \"num_unique_values\": 23,\n        \"samples\": [\n          1.7,\n          1.73,\n          1.84\n        ],\n        \"semantic_type\": \"\",\n        \"description\": \"\"\n      }\n    },\n    {\n      \"column\": \"Length\",\n      \"properties\": {\n        \"dtype\": \"number\",\n        \"std\": 248.89479251016596,\n        \"min\": 6532.0,\n        \"max\": 7802.0,\n        \"num_unique_values\": 46,\n        \"samples\": [\n          7343.0,\n          7531.0,\n          6841.0\n        ],\n        \"semantic_type\": \"\",\n        \"description\": \"\"\n      }\n    },\n    {\n      \"column\": \"Slope\",\n      \"properties\": {\n        \"dtype\": \"number\",\n        \"std\": 5.767880424168883,\n        \"min\": 0.0,\n        \"max\": 20.0,\n        \"num_unique_values\": 21,\n        \"samples\": [\n          4.0,\n          15.0,\n          20.0\n        ],\n        \"semantic_type\": \"\",\n        \"description\": \"\"\n      }\n    },\n    {\n      \"column\": \"humidity\",\n      \"properties\": {\n        \"dtype\": \"number\",\n        \"std\": 17.292993940848525,\n        \"min\": 13.0,\n        \"max\": 92.0,\n        \"num_unique_values\": 52,\n        \"samples\": [\n          61.0,\n          28.0,\n          27.0\n        ],\n        \"semantic_type\": \"\",\n        \"description\": \"\"\n      }\n    },\n    {\n      \"column\": \"pressure\",\n      \"properties\": {\n        \"dtype\": \"number\",\n        \"std\": 4.708277299144212,\n        \"min\": 1006.0,\n        \"max\": 1031.0,\n        \"num_unique_values\": 22,\n        \"samples\": [\n          1015.0,\n          1023.0,\n          1016.0\n        ],\n        \"semantic_type\": \"\",\n        \"description\": \"\"\n      }\n    },\n    {\n      \"column\": \"tempC\",\n      \"properties\": {\n        \"dtype\": \"number\",\n        \"std\": 6.809642680951218,\n        \"min\": 3.0,\n        \"max\": 40.0,\n        \"num_unique_values\": 28,\n        \"samples\": [\n          24.0,\n          10.0,\n          32.0\n        ],\n        \"semantic_type\": \"\",\n        \"description\": \"\"\n      }\n    },\n    {\n      \"column\": \"Bunkers\",\n      \"properties\": {\n        \"dtype\": \"number\",\n        \"std\": 1.7606854973993062,\n        \"min\": 0.0,\n        \"max\": 8.0,\n        \"num_unique_values\": 9,\n        \"samples\": [\n          4.0,\n          6.0,\n          7.0\n        ],\n        \"semantic_type\": \"\",\n        \"description\": \"\"\n      }\n    },\n    {\n      \"column\": \"made_cut\",\n      \"properties\": {\n        \"dtype\": \"number\",\n        \"std\": 0.4959766998706647,\n        \"min\": 0.0,\n        \"max\": 1.0,\n        \"num_unique_values\": 2,\n        \"samples\": [\n          0.0,\n          1.0\n        ],\n        \"semantic_type\": \"\",\n        \"description\": \"\"\n      }\n    }\n  ]\n}"
            }
          },
          "metadata": {},
          "execution_count": 24
        }
      ]
    },
    {
      "cell_type": "code",
      "source": [
        "from sklearn.model_selection import train_test_split\n",
        "\n",
        "train_df, test_df = train_test_split(dataset, test_size=0.2, random_state=42)"
      ],
      "metadata": {
        "id": "7-ftbjrEcOoC"
      },
      "execution_count": null,
      "outputs": []
    },
    {
      "cell_type": "code",
      "source": [
        "X_train = train_df.drop('made_cut', axis=1)\n",
        "y_train = train_df['made_cut']\n",
        "X_test = test_df.drop('made_cut', axis=1)\n",
        "y_test = test_df['made_cut']\n",
        "\n",
        "\n",
        "scaler = StandardScaler()\n",
        "X_train_scaled = scaler.fit_transform(X_train)\n",
        "X_test_scaled = scaler.transform(X_test)\n",
        "\n",
        "rf_clf = RandomForestClassifier(random_state=42)\n",
        "\n",
        "rf_clf.fit(X_train_scaled, y_train)\n",
        "\n",
        "y_pred = rf_clf.predict(X_test_scaled)\n",
        "\n",
        "accuracy = accuracy_score(y_test, y_pred)\n",
        "f1 = f1_score(y_test, y_pred)\n",
        "\n",
        "print(\"Random Forest - Accuracy:\", accuracy)\n",
        "print(\"Random Forest - F1 Score:\", f1)"
      ],
      "metadata": {
        "colab": {
          "base_uri": "https://localhost:8080/"
        },
        "id": "DOsk_hhycOmh",
        "outputId": "5e2725b9-38f4-4368-fd08-6b22895aad6e"
      },
      "execution_count": null,
      "outputs": [
        {
          "output_type": "stream",
          "name": "stdout",
          "text": [
            "Random Forest - Accuracy: 0.8655804480651731\n",
            "Random Forest - F1 Score: 0.879120879120879\n"
          ]
        }
      ]
    },
    {
      "cell_type": "code",
      "source": [
        "from sklearn.neighbors import KNeighborsClassifier\n",
        "\n",
        "knn_clf = KNeighborsClassifier(n_neighbors=5)\n",
        "\n",
        "knn_clf.fit(X_train_scaled, y_train)\n",
        "\n",
        "\n",
        "y_pred_knn = knn_clf.predict(X_test_scaled)\n",
        "\n",
        "\n",
        "accuracy_knn = accuracy_score(y_test, y_pred_knn)\n",
        "f1_knn = f1_score(y_test, y_pred_knn)\n",
        "\n",
        "print(\"KNN - Accuracy:\", accuracy_knn)\n",
        "print(\"KNN - F1 Score:\", f1_knn)"
      ],
      "metadata": {
        "colab": {
          "base_uri": "https://localhost:8080/"
        },
        "id": "_3L4AokzcVOr",
        "outputId": "cf728765-ea4c-4ba6-92d3-a3c399132bd8"
      },
      "execution_count": null,
      "outputs": [
        {
          "output_type": "stream",
          "name": "stdout",
          "text": [
            "KNN - Accuracy: 0.8177189409368636\n",
            "KNN - F1 Score: 0.8458225667527993\n"
          ]
        }
      ]
    },
    {
      "cell_type": "code",
      "source": [
        "from sklearn.svm import SVC\n",
        "\n",
        "svm_clf = SVC(random_state=42)\n",
        "\n",
        "svm_clf.fit(X_train_scaled, y_train)\n",
        "\n",
        "y_pred_svm = svm_clf.predict(X_test_scaled)\n",
        "\n",
        "accuracy_svm = accuracy_score(y_test, y_pred_svm)\n",
        "f1_svm = f1_score(y_test, y_pred_svm)\n",
        "\n",
        "print(\"SVM - Accuracy:\", accuracy_svm)\n",
        "print(\"SVM - F1 Score:\", f1_svm)"
      ],
      "metadata": {
        "colab": {
          "base_uri": "https://localhost:8080/"
        },
        "id": "BRWEhj0JcYAk",
        "outputId": "f3142416-c889-407d-d8d8-73fe5f1a36d5"
      },
      "execution_count": null,
      "outputs": [
        {
          "output_type": "stream",
          "name": "stdout",
          "text": [
            "SVM - Accuracy: 0.8559063136456212\n",
            "SVM - F1 Score: 0.8718877320054322\n"
          ]
        }
      ]
    },
    {
      "cell_type": "code",
      "source": [
        "from sklearn.neural_network import MLPClassifier\n",
        "from sklearn.metrics import classification_report\n",
        "\n",
        "mlp_clf = MLPClassifier(random_state=42)\n",
        "\n",
        "mlp_clf.fit(X_train_scaled, y_train)\n",
        "\n",
        "y_pred_mlp = mlp_clf.predict(X_test_scaled)\n",
        "\n",
        "print(classification_report(y_test, y_pred_mlp))"
      ],
      "metadata": {
        "colab": {
          "base_uri": "https://localhost:8080/"
        },
        "id": "2wrqNEnLcavi",
        "outputId": "783e38c9-7ebf-4063-a432-2a9e77cab0a4"
      },
      "execution_count": null,
      "outputs": [
        {
          "output_type": "stream",
          "name": "stdout",
          "text": [
            "              precision    recall  f1-score   support\n",
            "\n",
            "         0.0       0.82      0.86      0.84       824\n",
            "         1.0       0.89      0.86      0.88      1140\n",
            "\n",
            "    accuracy                           0.86      1964\n",
            "   macro avg       0.85      0.86      0.86      1964\n",
            "weighted avg       0.86      0.86      0.86      1964\n",
            "\n"
          ]
        },
        {
          "output_type": "stream",
          "name": "stderr",
          "text": [
            "/usr/local/lib/python3.10/dist-packages/sklearn/neural_network/_multilayer_perceptron.py:691: ConvergenceWarning: Stochastic Optimizer: Maximum iterations (200) reached and the optimization hasn't converged yet.\n",
            "  warnings.warn(\n"
          ]
        }
      ]
    },
    {
      "cell_type": "code",
      "source": [
        "import tensorflow as tf\n",
        "from tensorflow import keras\n",
        "\n",
        "model = keras.Sequential([\n",
        "    keras.layers.Dense(256, activation='relu', input_shape=(X_train_scaled.shape[1],)),\n",
        "    keras.layers.Dropout(0.5),\n",
        "    keras.layers.Dense(128, activation='relu'),\n",
        "    keras.layers.Dropout(0.2),\n",
        "    keras.layers.Dense(64, activation='relu'),\n",
        "    keras.layers.Dropout(0.2),\n",
        "    keras.layers.Dense(32, activation='relu'),\n",
        "    keras.layers.Dropout(0.2),\n",
        "    keras.layers.Dense(1, activation='sigmoid')\n",
        "])\n",
        "\n",
        "model.compile(optimizer='adam', loss='binary_crossentropy', metrics=['accuracy'])\n",
        "\n",
        "model.fit(X_train_scaled, y_train, epochs=20, batch_size=64, validation_split=0.2)\n",
        "\n",
        "_, accuracy = model.evaluate(X_test_scaled, y_test)\n",
        "\n",
        "y_pred = model.predict(X_test_scaled)\n",
        "y_pred = (y_pred > 0.5).astype(int)\n",
        "print(classification_report(y_test, y_pred))"
      ],
      "metadata": {
        "colab": {
          "base_uri": "https://localhost:8080/"
        },
        "id": "qxSeJpFxcggT",
        "outputId": "29408a18-12a6-4e30-f260-da62ab98bbd0"
      },
      "execution_count": null,
      "outputs": [
        {
          "output_type": "stream",
          "name": "stdout",
          "text": [
            "Epoch 1/20\n",
            "99/99 [==============================] - 2s 6ms/step - loss: 0.4727 - accuracy: 0.7856 - val_loss: 0.3693 - val_accuracy: 0.8434\n",
            "Epoch 2/20\n",
            "99/99 [==============================] - 0s 4ms/step - loss: 0.4040 - accuracy: 0.8229 - val_loss: 0.3637 - val_accuracy: 0.8434\n",
            "Epoch 3/20\n",
            "99/99 [==============================] - 0s 5ms/step - loss: 0.3986 - accuracy: 0.8265 - val_loss: 0.3658 - val_accuracy: 0.8460\n",
            "Epoch 4/20\n",
            "99/99 [==============================] - 0s 5ms/step - loss: 0.3942 - accuracy: 0.8347 - val_loss: 0.3545 - val_accuracy: 0.8466\n",
            "Epoch 5/20\n",
            "99/99 [==============================] - 0s 4ms/step - loss: 0.3844 - accuracy: 0.8350 - val_loss: 0.3576 - val_accuracy: 0.8479\n",
            "Epoch 6/20\n",
            "99/99 [==============================] - 0s 5ms/step - loss: 0.3821 - accuracy: 0.8300 - val_loss: 0.3502 - val_accuracy: 0.8415\n",
            "Epoch 7/20\n",
            "99/99 [==============================] - 0s 4ms/step - loss: 0.3716 - accuracy: 0.8380 - val_loss: 0.3583 - val_accuracy: 0.8485\n",
            "Epoch 8/20\n",
            "99/99 [==============================] - 0s 5ms/step - loss: 0.3719 - accuracy: 0.8351 - val_loss: 0.3533 - val_accuracy: 0.8447\n",
            "Epoch 9/20\n",
            "99/99 [==============================] - 0s 4ms/step - loss: 0.3673 - accuracy: 0.8375 - val_loss: 0.3425 - val_accuracy: 0.8479\n",
            "Epoch 10/20\n",
            "99/99 [==============================] - 0s 4ms/step - loss: 0.3683 - accuracy: 0.8353 - val_loss: 0.3460 - val_accuracy: 0.8504\n",
            "Epoch 11/20\n",
            "99/99 [==============================] - 0s 5ms/step - loss: 0.3627 - accuracy: 0.8404 - val_loss: 0.3445 - val_accuracy: 0.8421\n",
            "Epoch 12/20\n",
            "99/99 [==============================] - 0s 4ms/step - loss: 0.3623 - accuracy: 0.8413 - val_loss: 0.3406 - val_accuracy: 0.8415\n",
            "Epoch 13/20\n",
            "99/99 [==============================] - 0s 4ms/step - loss: 0.3603 - accuracy: 0.8417 - val_loss: 0.3355 - val_accuracy: 0.8472\n",
            "Epoch 14/20\n",
            "99/99 [==============================] - 0s 4ms/step - loss: 0.3533 - accuracy: 0.8394 - val_loss: 0.3391 - val_accuracy: 0.8466\n",
            "Epoch 15/20\n",
            "99/99 [==============================] - 1s 7ms/step - loss: 0.3552 - accuracy: 0.8448 - val_loss: 0.3427 - val_accuracy: 0.8479\n",
            "Epoch 16/20\n",
            "99/99 [==============================] - 1s 7ms/step - loss: 0.3504 - accuracy: 0.8471 - val_loss: 0.3350 - val_accuracy: 0.8421\n",
            "Epoch 17/20\n",
            "99/99 [==============================] - 1s 7ms/step - loss: 0.3457 - accuracy: 0.8433 - val_loss: 0.3363 - val_accuracy: 0.8434\n",
            "Epoch 18/20\n",
            "99/99 [==============================] - 1s 8ms/step - loss: 0.3506 - accuracy: 0.8425 - val_loss: 0.3374 - val_accuracy: 0.8466\n",
            "Epoch 19/20\n",
            "99/99 [==============================] - 1s 6ms/step - loss: 0.3491 - accuracy: 0.8439 - val_loss: 0.3429 - val_accuracy: 0.8491\n",
            "Epoch 20/20\n",
            "99/99 [==============================] - 0s 4ms/step - loss: 0.3472 - accuracy: 0.8455 - val_loss: 0.3403 - val_accuracy: 0.8491\n",
            "62/62 [==============================] - 0s 2ms/step - loss: 0.3442 - accuracy: 0.8498\n",
            "62/62 [==============================] - 0s 1ms/step\n",
            "              precision    recall  f1-score   support\n",
            "\n",
            "         0.0       0.79      0.88      0.83       824\n",
            "         1.0       0.90      0.83      0.87      1140\n",
            "\n",
            "    accuracy                           0.85      1964\n",
            "   macro avg       0.85      0.85      0.85      1964\n",
            "weighted avg       0.86      0.85      0.85      1964\n",
            "\n"
          ]
        }
      ]
    },
    {
      "cell_type": "markdown",
      "source": [
        "That was the machine learning method of feature selection. Let's try using our business knowledge of golf stats and focus on the shots gained statistics. Those that start with 'sg'."
      ],
      "metadata": {
        "id": "OJ9DLLDPc4mX"
      }
    },
    {
      "cell_type": "code",
      "source": [
        "# read the AnalysisFile.csv again\n",
        "\n",
        "import pandas as pd\n",
        "\n",
        "file_id = '1s57MKOxd5Mt2UJBoc7G3rko6atxZ73XW'\n",
        "path = 'https://drive.google.com/uc?export=download&id='+ file_id\n",
        "df = pd.read_csv(path)\n",
        "print(df.head())"
      ],
      "metadata": {
        "colab": {
          "base_uri": "https://localhost:8080/"
        },
        "id": "1_pzyoXMdNrW",
        "outputId": "166354a5-9381-479b-c338-caa446e09df3"
      },
      "execution_count": null,
      "outputs": [
        {
          "output_type": "stream",
          "name": "stdout",
          "text": [
            "           player  Height cm  Weight lbs         DOB   Age  player id  \\\n",
            "0  Robert Allenby      185.0       180.0  12/07/1971  46.0        5.0   \n",
            "1  Robert Allenby      185.0       180.0  12/07/1971  47.0        5.0   \n",
            "2  Robert Allenby      185.0       180.0  12/07/1971  47.0        5.0   \n",
            "3  Robert Allenby      185.0       180.0  12/07/1971  47.0        5.0   \n",
            "4  Robert Allenby      185.0       180.0  12/07/1971  47.0        5.0   \n",
            "\n",
            "         date                                 course  \\\n",
            "0  29/10/2017  Country Club of Jackson - Jackson, MS   \n",
            "1  20/05/2018            Trinity Forest - Dallas, TX   \n",
            "2  10/06/2018             TPC Southwind, Memphis, TN   \n",
            "3  15/07/2018             TPC Deere Run - Silvis, IL   \n",
            "4  23/07/2018        Keene Trace - Nicholasville, KY   \n",
            "\n",
            "                tournament name  tournament id  ...  visibility  \\\n",
            "0  Sanderson Farms Championship         3763.0  ...        10.0   \n",
            "1             AT&T Byron Nelson    401025251.0  ...         9.0   \n",
            "2        FedEx St. Jude Classic    401025254.0  ...        10.0   \n",
            "3            John Deere Classic    401025258.0  ...         8.0   \n",
            "4         Barbasol Championship    401025271.0  ...        10.0   \n",
            "\n",
            "   winddirDegree  windspeedKmph  GreensGrass  FariwaysGrass  Water  Bunkers  \\\n",
            "0          224.0            3.0          2.0            2.0    1.0      4.0   \n",
            "1          208.0           11.0          2.0            8.0    1.0      4.0   \n",
            "2          211.0           11.0          1.0            8.0    1.0      7.0   \n",
            "3          237.0            6.0          1.0            1.0    1.0      6.0   \n",
            "4          149.0            9.0          1.0            1.0    1.0      3.0   \n",
            "\n",
            "   Slope  Length   Par  \n",
            "0  128.0  6532.0  72.0  \n",
            "1  134.0  7447.0  72.0  \n",
            "2  149.0  7244.0  70.0  \n",
            "3  138.0  7258.0  71.0  \n",
            "4  139.0  7334.0  72.0  \n",
            "\n",
            "[5 rows x 64 columns]\n"
          ]
        }
      ]
    },
    {
      "cell_type": "code",
      "source": [
        "# target feature: made_cut\n",
        "# explanatory features: Consecutive_Cuts_Made, sg_putt, sg_arg, sg_app, sg_ott, sg_t2g, sg_total\n",
        "\n",
        "# sg_total = sg_t2g + sg_putt\n",
        "# sg_t2g = sg_ott + sg_app + sg_arg\n",
        "\n",
        "# sg_t2g is strokes gained tee to green\n",
        "# sg_ott is strokes gained off the tee\n",
        "# sg_app is strokes gained approach\n",
        "# sg_arg is strokes gained around the green\n",
        "# sg_putt is strokes gained putting\n",
        "\n",
        "# in df, drop all columns that aren't 'made_cut',\n",
        "# 'Consecutive_Cuts_Made', 'sg_putt', 'sg_arg', 'sg_app', 'sg_ott', 'sg_t2g',\n",
        "# 'sg_total'\n",
        "\n",
        "# Create a list of columns to keep\n",
        "columns_to_keep = ['made_cut', 'Consecutive_Cuts_Made', 'sg_putt', 'sg_arg', 'sg_app', 'sg_ott', 'sg_t2g', 'sg_total']\n",
        "\n",
        "# Select only those columns\n",
        "df = df[columns_to_keep]\n",
        "\n",
        "# Print the head of the new dataframe to check\n",
        "print(df.head())"
      ],
      "metadata": {
        "colab": {
          "base_uri": "https://localhost:8080/"
        },
        "id": "6DfqhYUhdXS2",
        "outputId": "54e8e1af-ca2b-4493-ad1c-67f680a142e3"
      },
      "execution_count": null,
      "outputs": [
        {
          "output_type": "stream",
          "name": "stdout",
          "text": [
            "   made_cut  Consecutive_Cuts_Made  sg_putt  sg_arg  sg_app  sg_ott  sg_t2g  \\\n",
            "0       0.0                    NaN     0.17   -0.93    0.65   -0.30   -0.57   \n",
            "1       1.0                    0.0     1.06   -1.32   -1.07   -0.73   -3.12   \n",
            "2       0.0                    1.0    -1.07   -0.48    0.71   -0.01    0.22   \n",
            "3       0.0                    0.0    -1.78   -0.18   -0.77   -0.52   -1.47   \n",
            "4       0.0                    0.0    -2.30   -0.61    1.13   -0.10    0.42   \n",
            "\n",
            "   sg_total  \n",
            "0     -0.40  \n",
            "1     -2.07  \n",
            "2     -0.85  \n",
            "3     -3.25  \n",
            "4     -1.87  \n"
          ]
        }
      ]
    },
    {
      "cell_type": "code",
      "source": [
        "# inspect the data\n",
        "\n",
        "print('made_cut value counts: \\n\\n', df['made_cut'].value_counts())"
      ],
      "metadata": {
        "colab": {
          "base_uri": "https://localhost:8080/"
        },
        "id": "ROZPsU3qdpNk",
        "outputId": "93aa68a2-edf5-4849-8534-523f04f536bb"
      },
      "execution_count": null,
      "outputs": [
        {
          "output_type": "stream",
          "name": "stdout",
          "text": [
            "made_cut value counts: \n",
            "\n",
            " made_cut\n",
            "1.0    8176\n",
            "0.0    5864\n",
            "Name: count, dtype: int64\n"
          ]
        }
      ]
    },
    {
      "cell_type": "code",
      "source": [
        "print('# of NaN: ', df['Consecutive_Cuts_Made'].isna().sum())\n",
        "print(df['Consecutive_Cuts_Made'].value_counts().sort_index())"
      ],
      "metadata": {
        "colab": {
          "base_uri": "https://localhost:8080/"
        },
        "id": "jY5Bjuqedrp-",
        "outputId": "bb438f06-597c-4699-fe3b-bc548b0541b4"
      },
      "execution_count": null,
      "outputs": [
        {
          "output_type": "stream",
          "name": "stdout",
          "text": [
            "# of NaN:  320\n",
            "Consecutive_Cuts_Made\n",
            "0.0     5730\n",
            "1.0     2975\n",
            "2.0     1696\n",
            "3.0      997\n",
            "4.0      654\n",
            "5.0      464\n",
            "6.0      305\n",
            "7.0      215\n",
            "8.0      164\n",
            "9.0      123\n",
            "10.0      88\n",
            "11.0      73\n",
            "12.0      55\n",
            "13.0      43\n",
            "14.0      34\n",
            "15.0      23\n",
            "16.0      18\n",
            "17.0      14\n",
            "18.0      11\n",
            "19.0      11\n",
            "20.0       8\n",
            "21.0       8\n",
            "22.0       3\n",
            "23.0       2\n",
            "24.0       1\n",
            "25.0       1\n",
            "26.0       1\n",
            "27.0       1\n",
            "28.0       1\n",
            "29.0       1\n",
            "30.0       1\n",
            "Name: count, dtype: int64\n"
          ]
        }
      ]
    },
    {
      "cell_type": "code",
      "source": [
        "# my business knowledge suggests we can replace NaN in Consecutive_Cuts_Made with 0\n",
        "\n",
        "df['Consecutive_Cuts_Made'] = df['Consecutive_Cuts_Made'].fillna(0)\n",
        "print('# of NaN: ', df['Consecutive_Cuts_Made'].isna().sum())"
      ],
      "metadata": {
        "colab": {
          "base_uri": "https://localhost:8080/"
        },
        "id": "AMXINUUtdvSt",
        "outputId": "aad31db0-9fdc-40c4-ad97-7c1d748d04a9"
      },
      "execution_count": null,
      "outputs": [
        {
          "output_type": "stream",
          "name": "stdout",
          "text": [
            "# of NaN:  0\n"
          ]
        }
      ]
    },
    {
      "cell_type": "code",
      "source": [
        "print('# of NaN in sg_putt: ', df['sg_putt'].isna().sum())\n",
        "print('# of NaN in sg_arg: ', df['sg_arg'].isna().sum())\n",
        "print('# of NaN in sg_app: ', df['sg_app'].isna().sum())\n",
        "print('# of NaN in sg_ott: ', df['sg_ott'].isna().sum())\n",
        "print('# of NaN in sg_t2g: ', df['sg_t2g'].isna().sum())\n",
        "print('# of NaN in sg_total: ', df['sg_total'].isna().sum())"
      ],
      "metadata": {
        "colab": {
          "base_uri": "https://localhost:8080/"
        },
        "id": "nGtXQIPIdyrJ",
        "outputId": "ab345d9c-dadc-44c6-aae4-1952c9f59050"
      },
      "execution_count": null,
      "outputs": [
        {
          "output_type": "stream",
          "name": "stdout",
          "text": [
            "# of NaN in sg_putt:  2385\n",
            "# of NaN in sg_arg:  2385\n",
            "# of NaN in sg_app:  2385\n",
            "# of NaN in sg_ott:  2385\n",
            "# of NaN in sg_t2g:  2385\n",
            "# of NaN in sg_total:  2385\n"
          ]
        }
      ]
    },
    {
      "cell_type": "code",
      "source": [
        "# prompt: drop rows in columns sg_putt, sg_arg, sg_app, sg_ott, sg_t2g, sg_total that are NaN\n",
        "\n",
        "# Drop rows with NaN in specified columns\n",
        "df = df.dropna(subset=['sg_putt', 'sg_arg', 'sg_app', 'sg_ott', 'sg_t2g', 'sg_total'])\n",
        "\n",
        "# Check if NaNs are removed\n",
        "print('# of NaN in sg_putt: ', df['sg_putt'].isna().sum())\n",
        "print('# of NaN in sg_arg: ', df['sg_arg'].isna().sum())\n",
        "print('# of NaN in sg_app: ', df['sg_app'].isna().sum())\n",
        "print('# of NaN in sg_ott: ', df['sg_ott'].isna().sum())\n",
        "print('# of NaN in sg_t2g: ', df['sg_t2g'].isna().sum())\n",
        "print('# of NaN in sg_total: ', df['sg_total'].isna().sum())"
      ],
      "metadata": {
        "colab": {
          "base_uri": "https://localhost:8080/"
        },
        "id": "idQp_0x8d2kE",
        "outputId": "79eff8a4-5e81-4657-c670-b5564717d950"
      },
      "execution_count": null,
      "outputs": [
        {
          "output_type": "stream",
          "name": "stdout",
          "text": [
            "# of NaN in sg_putt:  0\n",
            "# of NaN in sg_arg:  0\n",
            "# of NaN in sg_app:  0\n",
            "# of NaN in sg_ott:  0\n",
            "# of NaN in sg_t2g:  0\n",
            "# of NaN in sg_total:  0\n"
          ]
        }
      ]
    },
    {
      "cell_type": "code",
      "source": [
        "# prompt: give me descriptive stats on what remains in df\n",
        "\n",
        "df.describe()"
      ],
      "metadata": {
        "colab": {
          "base_uri": "https://localhost:8080/",
          "height": 320
        },
        "id": "zDX9Hrdsd4zZ",
        "outputId": "2e680fc1-a08b-45e2-f372-1bc72a35c396"
      },
      "execution_count": null,
      "outputs": [
        {
          "output_type": "execute_result",
          "data": {
            "text/plain": [
              "           made_cut  Consecutive_Cuts_Made       sg_putt        sg_arg  \\\n",
              "count  11656.000000           11656.000000  11656.000000  11656.000000   \n",
              "mean       0.565202               1.769475     -0.116354     -0.034218   \n",
              "std        0.495752               2.814005      1.114750      0.718543   \n",
              "min        0.000000               0.000000     -5.660000     -4.260000   \n",
              "25%        0.000000               0.000000     -0.780000     -0.440000   \n",
              "50%        1.000000               1.000000     -0.030000      0.000000   \n",
              "75%        1.000000               2.000000      0.630000      0.410000   \n",
              "max        1.000000              30.000000      3.980000      3.170000   \n",
              "\n",
              "             sg_app        sg_ott        sg_t2g      sg_total  \n",
              "count  11656.000000  11656.000000  11656.000000  11656.000000  \n",
              "mean      -0.086473     -0.039013     -0.159683     -0.275944  \n",
              "std        1.092826      0.798454      1.600503      1.957127  \n",
              "min       -6.980000     -5.730000     -9.130000    -10.950000  \n",
              "25%       -0.720000     -0.440000     -1.030000     -1.370000  \n",
              "50%        0.010000      0.050000      0.010000     -0.140000  \n",
              "75%        0.630000      0.480000      0.910000      1.070000  \n",
              "max        4.140000      2.470000      5.570000      5.960000  "
            ],
            "text/html": [
              "\n",
              "  <div id=\"df-334ca342-8763-4bf1-a356-4e54cee392c9\" class=\"colab-df-container\">\n",
              "    <div>\n",
              "<style scoped>\n",
              "    .dataframe tbody tr th:only-of-type {\n",
              "        vertical-align: middle;\n",
              "    }\n",
              "\n",
              "    .dataframe tbody tr th {\n",
              "        vertical-align: top;\n",
              "    }\n",
              "\n",
              "    .dataframe thead th {\n",
              "        text-align: right;\n",
              "    }\n",
              "</style>\n",
              "<table border=\"1\" class=\"dataframe\">\n",
              "  <thead>\n",
              "    <tr style=\"text-align: right;\">\n",
              "      <th></th>\n",
              "      <th>made_cut</th>\n",
              "      <th>Consecutive_Cuts_Made</th>\n",
              "      <th>sg_putt</th>\n",
              "      <th>sg_arg</th>\n",
              "      <th>sg_app</th>\n",
              "      <th>sg_ott</th>\n",
              "      <th>sg_t2g</th>\n",
              "      <th>sg_total</th>\n",
              "    </tr>\n",
              "  </thead>\n",
              "  <tbody>\n",
              "    <tr>\n",
              "      <th>count</th>\n",
              "      <td>11656.000000</td>\n",
              "      <td>11656.000000</td>\n",
              "      <td>11656.000000</td>\n",
              "      <td>11656.000000</td>\n",
              "      <td>11656.000000</td>\n",
              "      <td>11656.000000</td>\n",
              "      <td>11656.000000</td>\n",
              "      <td>11656.000000</td>\n",
              "    </tr>\n",
              "    <tr>\n",
              "      <th>mean</th>\n",
              "      <td>0.565202</td>\n",
              "      <td>1.769475</td>\n",
              "      <td>-0.116354</td>\n",
              "      <td>-0.034218</td>\n",
              "      <td>-0.086473</td>\n",
              "      <td>-0.039013</td>\n",
              "      <td>-0.159683</td>\n",
              "      <td>-0.275944</td>\n",
              "    </tr>\n",
              "    <tr>\n",
              "      <th>std</th>\n",
              "      <td>0.495752</td>\n",
              "      <td>2.814005</td>\n",
              "      <td>1.114750</td>\n",
              "      <td>0.718543</td>\n",
              "      <td>1.092826</td>\n",
              "      <td>0.798454</td>\n",
              "      <td>1.600503</td>\n",
              "      <td>1.957127</td>\n",
              "    </tr>\n",
              "    <tr>\n",
              "      <th>min</th>\n",
              "      <td>0.000000</td>\n",
              "      <td>0.000000</td>\n",
              "      <td>-5.660000</td>\n",
              "      <td>-4.260000</td>\n",
              "      <td>-6.980000</td>\n",
              "      <td>-5.730000</td>\n",
              "      <td>-9.130000</td>\n",
              "      <td>-10.950000</td>\n",
              "    </tr>\n",
              "    <tr>\n",
              "      <th>25%</th>\n",
              "      <td>0.000000</td>\n",
              "      <td>0.000000</td>\n",
              "      <td>-0.780000</td>\n",
              "      <td>-0.440000</td>\n",
              "      <td>-0.720000</td>\n",
              "      <td>-0.440000</td>\n",
              "      <td>-1.030000</td>\n",
              "      <td>-1.370000</td>\n",
              "    </tr>\n",
              "    <tr>\n",
              "      <th>50%</th>\n",
              "      <td>1.000000</td>\n",
              "      <td>1.000000</td>\n",
              "      <td>-0.030000</td>\n",
              "      <td>0.000000</td>\n",
              "      <td>0.010000</td>\n",
              "      <td>0.050000</td>\n",
              "      <td>0.010000</td>\n",
              "      <td>-0.140000</td>\n",
              "    </tr>\n",
              "    <tr>\n",
              "      <th>75%</th>\n",
              "      <td>1.000000</td>\n",
              "      <td>2.000000</td>\n",
              "      <td>0.630000</td>\n",
              "      <td>0.410000</td>\n",
              "      <td>0.630000</td>\n",
              "      <td>0.480000</td>\n",
              "      <td>0.910000</td>\n",
              "      <td>1.070000</td>\n",
              "    </tr>\n",
              "    <tr>\n",
              "      <th>max</th>\n",
              "      <td>1.000000</td>\n",
              "      <td>30.000000</td>\n",
              "      <td>3.980000</td>\n",
              "      <td>3.170000</td>\n",
              "      <td>4.140000</td>\n",
              "      <td>2.470000</td>\n",
              "      <td>5.570000</td>\n",
              "      <td>5.960000</td>\n",
              "    </tr>\n",
              "  </tbody>\n",
              "</table>\n",
              "</div>\n",
              "    <div class=\"colab-df-buttons\">\n",
              "\n",
              "  <div class=\"colab-df-container\">\n",
              "    <button class=\"colab-df-convert\" onclick=\"convertToInteractive('df-334ca342-8763-4bf1-a356-4e54cee392c9')\"\n",
              "            title=\"Convert this dataframe to an interactive table.\"\n",
              "            style=\"display:none;\">\n",
              "\n",
              "  <svg xmlns=\"http://www.w3.org/2000/svg\" height=\"24px\" viewBox=\"0 -960 960 960\">\n",
              "    <path d=\"M120-120v-720h720v720H120Zm60-500h600v-160H180v160Zm220 220h160v-160H400v160Zm0 220h160v-160H400v160ZM180-400h160v-160H180v160Zm440 0h160v-160H620v160ZM180-180h160v-160H180v160Zm440 0h160v-160H620v160Z\"/>\n",
              "  </svg>\n",
              "    </button>\n",
              "\n",
              "  <style>\n",
              "    .colab-df-container {\n",
              "      display:flex;\n",
              "      gap: 12px;\n",
              "    }\n",
              "\n",
              "    .colab-df-convert {\n",
              "      background-color: #E8F0FE;\n",
              "      border: none;\n",
              "      border-radius: 50%;\n",
              "      cursor: pointer;\n",
              "      display: none;\n",
              "      fill: #1967D2;\n",
              "      height: 32px;\n",
              "      padding: 0 0 0 0;\n",
              "      width: 32px;\n",
              "    }\n",
              "\n",
              "    .colab-df-convert:hover {\n",
              "      background-color: #E2EBFA;\n",
              "      box-shadow: 0px 1px 2px rgba(60, 64, 67, 0.3), 0px 1px 3px 1px rgba(60, 64, 67, 0.15);\n",
              "      fill: #174EA6;\n",
              "    }\n",
              "\n",
              "    .colab-df-buttons div {\n",
              "      margin-bottom: 4px;\n",
              "    }\n",
              "\n",
              "    [theme=dark] .colab-df-convert {\n",
              "      background-color: #3B4455;\n",
              "      fill: #D2E3FC;\n",
              "    }\n",
              "\n",
              "    [theme=dark] .colab-df-convert:hover {\n",
              "      background-color: #434B5C;\n",
              "      box-shadow: 0px 1px 3px 1px rgba(0, 0, 0, 0.15);\n",
              "      filter: drop-shadow(0px 1px 2px rgba(0, 0, 0, 0.3));\n",
              "      fill: #FFFFFF;\n",
              "    }\n",
              "  </style>\n",
              "\n",
              "    <script>\n",
              "      const buttonEl =\n",
              "        document.querySelector('#df-334ca342-8763-4bf1-a356-4e54cee392c9 button.colab-df-convert');\n",
              "      buttonEl.style.display =\n",
              "        google.colab.kernel.accessAllowed ? 'block' : 'none';\n",
              "\n",
              "      async function convertToInteractive(key) {\n",
              "        const element = document.querySelector('#df-334ca342-8763-4bf1-a356-4e54cee392c9');\n",
              "        const dataTable =\n",
              "          await google.colab.kernel.invokeFunction('convertToInteractive',\n",
              "                                                    [key], {});\n",
              "        if (!dataTable) return;\n",
              "\n",
              "        const docLinkHtml = 'Like what you see? Visit the ' +\n",
              "          '<a target=\"_blank\" href=https://colab.research.google.com/notebooks/data_table.ipynb>data table notebook</a>'\n",
              "          + ' to learn more about interactive tables.';\n",
              "        element.innerHTML = '';\n",
              "        dataTable['output_type'] = 'display_data';\n",
              "        await google.colab.output.renderOutput(dataTable, element);\n",
              "        const docLink = document.createElement('div');\n",
              "        docLink.innerHTML = docLinkHtml;\n",
              "        element.appendChild(docLink);\n",
              "      }\n",
              "    </script>\n",
              "  </div>\n",
              "\n",
              "\n",
              "<div id=\"df-1e1d4ef9-7888-4ea3-a499-9f5b99eaeff3\">\n",
              "  <button class=\"colab-df-quickchart\" onclick=\"quickchart('df-1e1d4ef9-7888-4ea3-a499-9f5b99eaeff3')\"\n",
              "            title=\"Suggest charts\"\n",
              "            style=\"display:none;\">\n",
              "\n",
              "<svg xmlns=\"http://www.w3.org/2000/svg\" height=\"24px\"viewBox=\"0 0 24 24\"\n",
              "     width=\"24px\">\n",
              "    <g>\n",
              "        <path d=\"M19 3H5c-1.1 0-2 .9-2 2v14c0 1.1.9 2 2 2h14c1.1 0 2-.9 2-2V5c0-1.1-.9-2-2-2zM9 17H7v-7h2v7zm4 0h-2V7h2v10zm4 0h-2v-4h2v4z\"/>\n",
              "    </g>\n",
              "</svg>\n",
              "  </button>\n",
              "\n",
              "<style>\n",
              "  .colab-df-quickchart {\n",
              "      --bg-color: #E8F0FE;\n",
              "      --fill-color: #1967D2;\n",
              "      --hover-bg-color: #E2EBFA;\n",
              "      --hover-fill-color: #174EA6;\n",
              "      --disabled-fill-color: #AAA;\n",
              "      --disabled-bg-color: #DDD;\n",
              "  }\n",
              "\n",
              "  [theme=dark] .colab-df-quickchart {\n",
              "      --bg-color: #3B4455;\n",
              "      --fill-color: #D2E3FC;\n",
              "      --hover-bg-color: #434B5C;\n",
              "      --hover-fill-color: #FFFFFF;\n",
              "      --disabled-bg-color: #3B4455;\n",
              "      --disabled-fill-color: #666;\n",
              "  }\n",
              "\n",
              "  .colab-df-quickchart {\n",
              "    background-color: var(--bg-color);\n",
              "    border: none;\n",
              "    border-radius: 50%;\n",
              "    cursor: pointer;\n",
              "    display: none;\n",
              "    fill: var(--fill-color);\n",
              "    height: 32px;\n",
              "    padding: 0;\n",
              "    width: 32px;\n",
              "  }\n",
              "\n",
              "  .colab-df-quickchart:hover {\n",
              "    background-color: var(--hover-bg-color);\n",
              "    box-shadow: 0 1px 2px rgba(60, 64, 67, 0.3), 0 1px 3px 1px rgba(60, 64, 67, 0.15);\n",
              "    fill: var(--button-hover-fill-color);\n",
              "  }\n",
              "\n",
              "  .colab-df-quickchart-complete:disabled,\n",
              "  .colab-df-quickchart-complete:disabled:hover {\n",
              "    background-color: var(--disabled-bg-color);\n",
              "    fill: var(--disabled-fill-color);\n",
              "    box-shadow: none;\n",
              "  }\n",
              "\n",
              "  .colab-df-spinner {\n",
              "    border: 2px solid var(--fill-color);\n",
              "    border-color: transparent;\n",
              "    border-bottom-color: var(--fill-color);\n",
              "    animation:\n",
              "      spin 1s steps(1) infinite;\n",
              "  }\n",
              "\n",
              "  @keyframes spin {\n",
              "    0% {\n",
              "      border-color: transparent;\n",
              "      border-bottom-color: var(--fill-color);\n",
              "      border-left-color: var(--fill-color);\n",
              "    }\n",
              "    20% {\n",
              "      border-color: transparent;\n",
              "      border-left-color: var(--fill-color);\n",
              "      border-top-color: var(--fill-color);\n",
              "    }\n",
              "    30% {\n",
              "      border-color: transparent;\n",
              "      border-left-color: var(--fill-color);\n",
              "      border-top-color: var(--fill-color);\n",
              "      border-right-color: var(--fill-color);\n",
              "    }\n",
              "    40% {\n",
              "      border-color: transparent;\n",
              "      border-right-color: var(--fill-color);\n",
              "      border-top-color: var(--fill-color);\n",
              "    }\n",
              "    60% {\n",
              "      border-color: transparent;\n",
              "      border-right-color: var(--fill-color);\n",
              "    }\n",
              "    80% {\n",
              "      border-color: transparent;\n",
              "      border-right-color: var(--fill-color);\n",
              "      border-bottom-color: var(--fill-color);\n",
              "    }\n",
              "    90% {\n",
              "      border-color: transparent;\n",
              "      border-bottom-color: var(--fill-color);\n",
              "    }\n",
              "  }\n",
              "</style>\n",
              "\n",
              "  <script>\n",
              "    async function quickchart(key) {\n",
              "      const quickchartButtonEl =\n",
              "        document.querySelector('#' + key + ' button');\n",
              "      quickchartButtonEl.disabled = true;  // To prevent multiple clicks.\n",
              "      quickchartButtonEl.classList.add('colab-df-spinner');\n",
              "      try {\n",
              "        const charts = await google.colab.kernel.invokeFunction(\n",
              "            'suggestCharts', [key], {});\n",
              "      } catch (error) {\n",
              "        console.error('Error during call to suggestCharts:', error);\n",
              "      }\n",
              "      quickchartButtonEl.classList.remove('colab-df-spinner');\n",
              "      quickchartButtonEl.classList.add('colab-df-quickchart-complete');\n",
              "    }\n",
              "    (() => {\n",
              "      let quickchartButtonEl =\n",
              "        document.querySelector('#df-1e1d4ef9-7888-4ea3-a499-9f5b99eaeff3 button');\n",
              "      quickchartButtonEl.style.display =\n",
              "        google.colab.kernel.accessAllowed ? 'block' : 'none';\n",
              "    })();\n",
              "  </script>\n",
              "</div>\n",
              "\n",
              "    </div>\n",
              "  </div>\n"
            ],
            "application/vnd.google.colaboratory.intrinsic+json": {
              "type": "dataframe",
              "summary": "{\n  \"name\": \"df\",\n  \"rows\": 8,\n  \"fields\": [\n    {\n      \"column\": \"made_cut\",\n      \"properties\": {\n        \"dtype\": \"number\",\n        \"std\": 4120.813232558847,\n        \"min\": 0.0,\n        \"max\": 11656.0,\n        \"num_unique_values\": 5,\n        \"samples\": [\n          0.5652024708304736,\n          1.0,\n          0.49575167478467436\n        ],\n        \"semantic_type\": \"\",\n        \"description\": \"\"\n      }\n    },\n    {\n      \"column\": \"Consecutive_Cuts_Made\",\n      \"properties\": {\n        \"dtype\": \"number\",\n        \"std\": 4119.132454147704,\n        \"min\": 0.0,\n        \"max\": 11656.0,\n        \"num_unique_values\": 7,\n        \"samples\": [\n          11656.0,\n          1.769474948524365,\n          2.0\n        ],\n        \"semantic_type\": \"\",\n        \"description\": \"\"\n      }\n    },\n    {\n      \"column\": \"sg_putt\",\n      \"properties\": {\n        \"dtype\": \"number\",\n        \"std\": 4121.062705489507,\n        \"min\": -5.66,\n        \"max\": 11656.0,\n        \"num_unique_values\": 8,\n        \"samples\": [\n          -0.1163538091969801,\n          -0.03,\n          11656.0\n        ],\n        \"semantic_type\": \"\",\n        \"description\": \"\"\n      }\n    },\n    {\n      \"column\": \"sg_arg\",\n      \"properties\": {\n        \"dtype\": \"number\",\n        \"std\": 4121.040829184205,\n        \"min\": -4.26,\n        \"max\": 11656.0,\n        \"num_unique_values\": 8,\n        \"samples\": [\n          -0.03421842827728209,\n          0.0,\n          11656.0\n        ],\n        \"semantic_type\": \"\",\n        \"description\": \"\"\n      }\n    },\n    {\n      \"column\": \"sg_app\",\n      \"properties\": {\n        \"dtype\": \"number\",\n        \"std\": 4121.116143658778,\n        \"min\": -6.98,\n        \"max\": 11656.0,\n        \"num_unique_values\": 8,\n        \"samples\": [\n          -0.08647306108442004,\n          0.01,\n          11656.0\n        ],\n        \"semantic_type\": \"\",\n        \"description\": \"\"\n      }\n    },\n    {\n      \"column\": \"sg_ott\",\n      \"properties\": {\n        \"dtype\": \"number\",\n        \"std\": 4121.140751227582,\n        \"min\": -5.73,\n        \"max\": 11656.0,\n        \"num_unique_values\": 8,\n        \"samples\": [\n          -0.03901252573781743,\n          0.05,\n          11656.0\n        ],\n        \"semantic_type\": \"\",\n        \"description\": \"\"\n      }\n    },\n    {\n      \"column\": \"sg_t2g\",\n      \"properties\": {\n        \"dtype\": \"number\",\n        \"std\": 4121.132959114924,\n        \"min\": -9.13,\n        \"max\": 11656.0,\n        \"num_unique_values\": 8,\n        \"samples\": [\n          -0.15968256691832533,\n          0.01,\n          11656.0\n        ],\n        \"semantic_type\": \"\",\n        \"description\": \"\"\n      }\n    },\n    {\n      \"column\": \"sg_total\",\n      \"properties\": {\n        \"dtype\": \"number\",\n        \"std\": 4121.210444041822,\n        \"min\": -10.95,\n        \"max\": 11656.0,\n        \"num_unique_values\": 8,\n        \"samples\": [\n          -0.27594371997254635,\n          -0.14,\n          11656.0\n        ],\n        \"semantic_type\": \"\",\n        \"description\": \"\"\n      }\n    }\n  ]\n}"
            }
          },
          "metadata": {},
          "execution_count": 11
        }
      ]
    },
    {
      "cell_type": "code",
      "source": [
        "# train a stochastic gradient descent classifier using Scikit-Learn's SGDClassifier class. Y is made_cut and X is Consecutive_Cuts_Made, sg_putt, sg_arg, sg_app, sg_ott, sg_t2g, sg_total\n",
        "\n",
        "from sklearn.linear_model import SGDClassifier\n",
        "from sklearn.model_selection import train_test_split\n",
        "\n",
        "# Define your features and target variable\n",
        "X = df[['Consecutive_Cuts_Made', 'sg_putt', 'sg_arg', 'sg_app', 'sg_ott', 'sg_t2g', 'sg_total']]\n",
        "y = df['made_cut']\n",
        "\n",
        "# Split the data into training and testing sets\n",
        "X_train, X_test, y_train, y_test = train_test_split(X, y, test_size=0.2, random_state=42)\n",
        "\n",
        "# Initialize the SGDClassifier\n",
        "clf = SGDClassifier(loss='log_loss', random_state=42)  # Using log_loss for logistic regression\n",
        "\n",
        "# Train the classifier\n",
        "clf.fit(X_train, y_train)"
      ],
      "metadata": {
        "colab": {
          "base_uri": "https://localhost:8080/",
          "height": 75
        },
        "id": "iR1twVycd7Nr",
        "outputId": "bf27c694-8498-42dd-cb1a-a316a29c6d51"
      },
      "execution_count": null,
      "outputs": [
        {
          "output_type": "execute_result",
          "data": {
            "text/plain": [
              "SGDClassifier(loss='log_loss', random_state=42)"
            ],
            "text/html": [
              "<style>#sk-container-id-1 {color: black;}#sk-container-id-1 pre{padding: 0;}#sk-container-id-1 div.sk-toggleable {background-color: white;}#sk-container-id-1 label.sk-toggleable__label {cursor: pointer;display: block;width: 100%;margin-bottom: 0;padding: 0.3em;box-sizing: border-box;text-align: center;}#sk-container-id-1 label.sk-toggleable__label-arrow:before {content: \"▸\";float: left;margin-right: 0.25em;color: #696969;}#sk-container-id-1 label.sk-toggleable__label-arrow:hover:before {color: black;}#sk-container-id-1 div.sk-estimator:hover label.sk-toggleable__label-arrow:before {color: black;}#sk-container-id-1 div.sk-toggleable__content {max-height: 0;max-width: 0;overflow: hidden;text-align: left;background-color: #f0f8ff;}#sk-container-id-1 div.sk-toggleable__content pre {margin: 0.2em;color: black;border-radius: 0.25em;background-color: #f0f8ff;}#sk-container-id-1 input.sk-toggleable__control:checked~div.sk-toggleable__content {max-height: 200px;max-width: 100%;overflow: auto;}#sk-container-id-1 input.sk-toggleable__control:checked~label.sk-toggleable__label-arrow:before {content: \"▾\";}#sk-container-id-1 div.sk-estimator input.sk-toggleable__control:checked~label.sk-toggleable__label {background-color: #d4ebff;}#sk-container-id-1 div.sk-label input.sk-toggleable__control:checked~label.sk-toggleable__label {background-color: #d4ebff;}#sk-container-id-1 input.sk-hidden--visually {border: 0;clip: rect(1px 1px 1px 1px);clip: rect(1px, 1px, 1px, 1px);height: 1px;margin: -1px;overflow: hidden;padding: 0;position: absolute;width: 1px;}#sk-container-id-1 div.sk-estimator {font-family: monospace;background-color: #f0f8ff;border: 1px dotted black;border-radius: 0.25em;box-sizing: border-box;margin-bottom: 0.5em;}#sk-container-id-1 div.sk-estimator:hover {background-color: #d4ebff;}#sk-container-id-1 div.sk-parallel-item::after {content: \"\";width: 100%;border-bottom: 1px solid gray;flex-grow: 1;}#sk-container-id-1 div.sk-label:hover label.sk-toggleable__label {background-color: #d4ebff;}#sk-container-id-1 div.sk-serial::before {content: \"\";position: absolute;border-left: 1px solid gray;box-sizing: border-box;top: 0;bottom: 0;left: 50%;z-index: 0;}#sk-container-id-1 div.sk-serial {display: flex;flex-direction: column;align-items: center;background-color: white;padding-right: 0.2em;padding-left: 0.2em;position: relative;}#sk-container-id-1 div.sk-item {position: relative;z-index: 1;}#sk-container-id-1 div.sk-parallel {display: flex;align-items: stretch;justify-content: center;background-color: white;position: relative;}#sk-container-id-1 div.sk-item::before, #sk-container-id-1 div.sk-parallel-item::before {content: \"\";position: absolute;border-left: 1px solid gray;box-sizing: border-box;top: 0;bottom: 0;left: 50%;z-index: -1;}#sk-container-id-1 div.sk-parallel-item {display: flex;flex-direction: column;z-index: 1;position: relative;background-color: white;}#sk-container-id-1 div.sk-parallel-item:first-child::after {align-self: flex-end;width: 50%;}#sk-container-id-1 div.sk-parallel-item:last-child::after {align-self: flex-start;width: 50%;}#sk-container-id-1 div.sk-parallel-item:only-child::after {width: 0;}#sk-container-id-1 div.sk-dashed-wrapped {border: 1px dashed gray;margin: 0 0.4em 0.5em 0.4em;box-sizing: border-box;padding-bottom: 0.4em;background-color: white;}#sk-container-id-1 div.sk-label label {font-family: monospace;font-weight: bold;display: inline-block;line-height: 1.2em;}#sk-container-id-1 div.sk-label-container {text-align: center;}#sk-container-id-1 div.sk-container {/* jupyter's `normalize.less` sets `[hidden] { display: none; }` but bootstrap.min.css set `[hidden] { display: none !important; }` so we also need the `!important` here to be able to override the default hidden behavior on the sphinx rendered scikit-learn.org. See: https://github.com/scikit-learn/scikit-learn/issues/21755 */display: inline-block !important;position: relative;}#sk-container-id-1 div.sk-text-repr-fallback {display: none;}</style><div id=\"sk-container-id-1\" class=\"sk-top-container\"><div class=\"sk-text-repr-fallback\"><pre>SGDClassifier(loss=&#x27;log_loss&#x27;, random_state=42)</pre><b>In a Jupyter environment, please rerun this cell to show the HTML representation or trust the notebook. <br />On GitHub, the HTML representation is unable to render, please try loading this page with nbviewer.org.</b></div><div class=\"sk-container\" hidden><div class=\"sk-item\"><div class=\"sk-estimator sk-toggleable\"><input class=\"sk-toggleable__control sk-hidden--visually\" id=\"sk-estimator-id-1\" type=\"checkbox\" checked><label for=\"sk-estimator-id-1\" class=\"sk-toggleable__label sk-toggleable__label-arrow\">SGDClassifier</label><div class=\"sk-toggleable__content\"><pre>SGDClassifier(loss=&#x27;log_loss&#x27;, random_state=42)</pre></div></div></div></div></div>"
            ]
          },
          "metadata": {},
          "execution_count": 12
        }
      ]
    },
    {
      "cell_type": "code",
      "source": [
        "# Use the cross_val_score() function to evaluate our SGDClassifier model using 5-fold cross-validation.\n",
        "\n",
        "from sklearn.model_selection import cross_val_score\n",
        "\n",
        "# Evaluate the model using 5-fold cross-validation\n",
        "scores = cross_val_score(clf, X, y, cv=5)\n",
        "\n",
        "# Print the cross-validation scores\n",
        "print(\"Cross-validation scores:\", scores)\n",
        "print(\"Average cross-validation score:\", scores.mean())"
      ],
      "metadata": {
        "colab": {
          "base_uri": "https://localhost:8080/"
        },
        "id": "FlNHB-CKd-0I",
        "outputId": "86fa806f-7b91-4ee0-dfe0-2aa45a40e617"
      },
      "execution_count": null,
      "outputs": [
        {
          "output_type": "stream",
          "name": "stdout",
          "text": [
            "Cross-validation scores: [0.79459691 0.78592879 0.8018018  0.77091377 0.7962248 ]\n",
            "Average cross-validation score: 0.7898932134781191\n"
          ]
        }
      ]
    },
    {
      "cell_type": "code",
      "source": [
        "# Try just Consecutive_Cuts_Made\n",
        "\n",
        "# Define your features and target variable\n",
        "X = df[['Consecutive_Cuts_Made']]  # Selecting only 'Consecutive_Cuts_Made' as feature\n",
        "y = df['made_cut']\n",
        "\n",
        "# Split the data into training and testing sets\n",
        "X_train, X_test, y_train, y_test = train_test_split(X, y, test_size=0.2, random_state=42)\n",
        "\n",
        "# Initialize the SGDClassifier\n",
        "clf = SGDClassifier(loss='log_loss', random_state=42)  # Using log_loss for logistic regression\n",
        "\n",
        "# Train the classifier\n",
        "clf.fit(X_train, y_train)\n",
        "\n",
        "# Evaluate the model using 5-fold cross-validation\n",
        "scores = cross_val_score(clf, X, y, cv=5)\n",
        "\n",
        "# Print the cross-validation scores\n",
        "print(\"Cross-validation scores:\", scores)\n",
        "print(\"Average cross-validation score:\", scores.mean())"
      ],
      "metadata": {
        "colab": {
          "base_uri": "https://localhost:8080/"
        },
        "id": "6ZmvGVsleDM0",
        "outputId": "ab6bdd3c-fcc6-4989-eac3-790b2873af14"
      },
      "execution_count": null,
      "outputs": [
        {
          "output_type": "stream",
          "name": "stdout",
          "text": [
            "Cross-validation scores: [0.5651801  0.56499356 0.56070356 0.57314457 0.56542257]\n",
            "Average cross-validation score: 0.5658888734360433\n"
          ]
        }
      ]
    },
    {
      "cell_type": "markdown",
      "source": [
        "Consecutive_Cuts_Made is not a good explanatory feature on its own"
      ],
      "metadata": {
        "id": "TqN89HWwffJI"
      }
    },
    {
      "cell_type": "code",
      "source": [
        "# Try sg_total\n",
        "# reminder:\n",
        "# sg_total = sg_t2g and sg_putt\n",
        "# sg_t2g = sg_ott + sg_app + sg_arg\n",
        "\n",
        "# Define your features and target variable\n",
        "X = df[['sg_total']]  # Selecting only 'sg_total' as feature\n",
        "y = df['made_cut']\n",
        "\n",
        "# Split the data into training and testing sets\n",
        "X_train, X_test, y_train, y_test = train_test_split(X, y, test_size=0.2, random_state=42)\n",
        "\n",
        "# Initialize the SGDClassifier\n",
        "clf = SGDClassifier(loss='log_loss', random_state=42)  # Using log_loss for logistic regression\n",
        "\n",
        "# Train the classifier\n",
        "clf.fit(X_train, y_train)\n",
        "\n",
        "# Evaluate the model using 5-fold cross-validation\n",
        "scores = cross_val_score(clf, X, y, cv=5)\n",
        "\n",
        "# Print the cross-validation scores\n",
        "print(\"Cross-validation scores:\", scores)\n",
        "print(\"Average cross-validation score:\", scores.mean())"
      ],
      "metadata": {
        "colab": {
          "base_uri": "https://localhost:8080/"
        },
        "id": "px3IDujaeF4A",
        "outputId": "e807aa39-9bce-4205-893d-8f879a8cca2a"
      },
      "execution_count": null,
      "outputs": [
        {
          "output_type": "stream",
          "name": "stdout",
          "text": [
            "Cross-validation scores: [0.7941681  0.82453882 0.7992278  0.8000858  0.80694981]\n",
            "Average cross-validation score: 0.8049940653714239\n"
          ]
        }
      ]
    },
    {
      "cell_type": "code",
      "source": [
        "# does breaking up sg_total into sg_t2g and sg_putt improve it?\n",
        "\n",
        "# Define your features and target variable\n",
        "X = df[['sg_putt', 'sg_t2g']]  # Selecting 'sg_putt' and 'sg_t2g' as features\n",
        "y = df['made_cut']\n",
        "\n",
        "# Split the data into training and testing sets\n",
        "X_train, X_test, y_train, y_test = train_test_split(X, y, test_size=0.2, random_state=42)\n",
        "\n",
        "# Initialize the SGDClassifier\n",
        "clf = SGDClassifier(loss='log_loss', random_state=42)  # Using log_loss for logistic regression\n",
        "\n",
        "# Train the classifier\n",
        "clf.fit(X_train, y_train)\n",
        "\n",
        "# Evaluate the model using 5-fold cross-validation\n",
        "scores = cross_val_score(clf, X, y, cv=5)\n",
        "\n",
        "# Print the cross-validation scores\n",
        "print(\"Cross-validation scores:\", scores)\n",
        "print(\"Average cross-validation score:\", scores.mean())"
      ],
      "metadata": {
        "colab": {
          "base_uri": "https://localhost:8080/"
        },
        "id": "k7GOze-KeIGr",
        "outputId": "f571eab9-6ebf-473a-b7a3-01f32b9370c4"
      },
      "execution_count": null,
      "outputs": [
        {
          "output_type": "stream",
          "name": "stdout",
          "text": [
            "Cross-validation scores: [0.79845626 0.7983698  0.78721579 0.8009438  0.82582583]\n",
            "Average cross-validation score: 0.8021622946151249\n"
          ]
        }
      ]
    },
    {
      "cell_type": "code",
      "source": [
        "# How about if we further break down sg_t2g into its components?\n",
        "\n",
        "# Define your features and target variable\n",
        "X = df[['sg_putt', 'sg_arg', 'sg_app', 'sg_ott']]\n",
        "y = df['made_cut']\n",
        "\n",
        "# Split the data into training and testing sets\n",
        "X_train, X_test, y_train, y_test = train_test_split(X, y, test_size=0.2, random_state=42)\n",
        "\n",
        "# Initialize the SGDClassifier\n",
        "clf = SGDClassifier(loss='log_loss', random_state=42)  # Using log_loss for logistic regression\n",
        "\n",
        "# Train the classifier\n",
        "clf.fit(X_train, y_train)\n",
        "\n",
        "# Evaluate the model using 5-fold cross-validation\n",
        "scores = cross_val_score(clf, X, y, cv=5)\n",
        "\n",
        "# Print the cross-validation scores\n",
        "print(\"Cross-validation scores:\", scores)\n",
        "print(\"Average cross-validation score:\", scores.mean())"
      ],
      "metadata": {
        "colab": {
          "base_uri": "https://localhost:8080/"
        },
        "id": "Z_OW3xIneKwN",
        "outputId": "3983a353-0c15-434c-9862-61e7bf420601"
      },
      "execution_count": null,
      "outputs": [
        {
          "output_type": "stream",
          "name": "stdout",
          "text": [
            "Cross-validation scores: [0.79802744 0.82153582 0.79322179 0.80780781 0.81767482]\n",
            "Average cross-validation score: 0.8076535368988198\n"
          ]
        }
      ]
    },
    {
      "cell_type": "code",
      "source": [
        "# prompt: what is f1 of above?\n",
        "\n",
        "from sklearn.metrics import f1_score\n",
        "\n",
        "# Assuming 'clf' is your trained SGDClassifier and 'X_test' and 'y_test' are your test data\n",
        "y_pred = clf.predict(X_test)\n",
        "f1 = f1_score(y_test, y_pred)\n",
        "\n",
        "print(\"F1-score:\", f1)\n"
      ],
      "metadata": {
        "colab": {
          "base_uri": "https://localhost:8080/"
        },
        "id": "Dnnyotjvo9k7",
        "outputId": "5d5b1325-d1d4-457b-e2ed-accaeb5790e7"
      },
      "execution_count": null,
      "outputs": [
        {
          "output_type": "stream",
          "name": "stdout",
          "text": [
            "F1-score: 0.8177744585511576\n"
          ]
        }
      ]
    },
    {
      "cell_type": "code",
      "source": [
        "# maybe we need to do feature scaling\n",
        "\n",
        "# prompt: use pyplot to plot a histogram of 'Consecutive_Cuts_Made', 'sg_putt', 'sg_arg', 'sg_app', 'sg_ott', 'sg_t2g', 'sg_total'\n",
        "\n",
        "import matplotlib.pyplot as plt\n",
        "\n",
        "# Create histograms for the specified columns\n",
        "plt.figure(figsize=(15, 10))\n",
        "\n",
        "plt.subplot(2, 4, 1)\n",
        "plt.hist(df['Consecutive_Cuts_Made'])\n",
        "plt.title('Consecutive_Cuts_Made')\n",
        "\n",
        "plt.subplot(2, 4, 2)\n",
        "plt.hist(df['sg_putt'])\n",
        "plt.title('sg_putt')\n",
        "\n",
        "plt.subplot(2, 4, 3)\n",
        "plt.hist(df['sg_arg'])\n",
        "plt.title('sg_arg')\n",
        "\n",
        "plt.subplot(2, 4, 4)\n",
        "plt.hist(df['sg_app'])\n",
        "plt.title('sg_app')\n",
        "\n",
        "plt.subplot(2, 4, 5)\n",
        "plt.hist(df['sg_ott'])\n",
        "plt.title('sg_ott')\n",
        "\n",
        "plt.subplot(2, 4, 6)\n",
        "plt.hist(df['sg_t2g'])\n",
        "plt.title('sg_t2g')\n",
        "\n",
        "plt.subplot(2, 4, 7)\n",
        "plt.hist(df['sg_total'])\n",
        "plt.title('sg_total')\n",
        "\n",
        "plt.tight_layout()\n",
        "plt.show()"
      ],
      "metadata": {
        "colab": {
          "base_uri": "https://localhost:8080/",
          "height": 832
        },
        "id": "A6jSER2SePAs",
        "outputId": "5230ece2-5d65-4a8f-e360-e202fb09953f"
      },
      "execution_count": null,
      "outputs": [
        {
          "output_type": "display_data",
          "data": {
            "text/plain": [
              "<Figure size 1500x1000 with 7 Axes>"
            ],
            "image/png": "[encoded data removed]"
          },
          "metadata": {}
        }
      ]
    },
    {
      "cell_type": "code",
      "source": [
        "# prompt: use StandardScalar to scale 'Consecutive_Cuts_Made'\n",
        "\n",
        "from sklearn.preprocessing import StandardScaler\n",
        "\n",
        "# Create a StandardScaler object\n",
        "scaler = StandardScaler()\n",
        "\n",
        "# Fit the scaler to the 'Consecutive_Cuts_Made' column and transform it\n",
        "df['Consecutive_Cuts_Made_Scaled'] = scaler.fit_transform(df[['Consecutive_Cuts_Made']])"
      ],
      "metadata": {
        "id": "CzS0scSpeVTe"
      },
      "execution_count": null,
      "outputs": []
    },
    {
      "cell_type": "code",
      "source": [
        "# prompt: plot a histogram of 'Consecutive_Cuts_Made_Scaled'\n",
        "\n",
        "# Plot the histogram of the scaled column\n",
        "plt.hist(df['Consecutive_Cuts_Made_Scaled'])\n",
        "plt.title('Consecutive_Cuts_Made_Scaled')\n",
        "plt.show()"
      ],
      "metadata": {
        "colab": {
          "base_uri": "https://localhost:8080/",
          "height": 452
        },
        "id": "TLqBxB-1eXox",
        "outputId": "78626458-5f60-4cb6-d9ca-e0d5da258ff3"
      },
      "execution_count": null,
      "outputs": [
        {
          "output_type": "display_data",
          "data": {
            "text/plain": [
              "<Figure size 640x480 with 1 Axes>"
            ],
            "image/png": "[encoded data removed]"
          },
          "metadata": {}
        }
      ]
    },
    {
      "cell_type": "code",
      "source": [
        "# Train an SGD classifier where Y=made_cut and X=Consecutive_Cuts_Made_Scaled\n",
        "\n",
        "# Define your features and target variable\n",
        "X = df[['Consecutive_Cuts_Made_Scaled']]\n",
        "y = df['made_cut']\n",
        "\n",
        "# Split the data into training and testing sets\n",
        "X_train, X_test, y_train, y_test = train_test_split(X, y, test_size=0.2, random_state=42)\n",
        "\n",
        "# Initialize the SGDClassifier\n",
        "clf = SGDClassifier(loss='log_loss', random_state=42)  # Using log_loss for logistic regression\n",
        "\n",
        "# Train the classifier\n",
        "clf.fit(X_train, y_train)\n",
        "\n",
        "# Evaluate the model using 5-fold cross-validation\n",
        "scores = cross_val_score(clf, X, y, cv=5)\n",
        "\n",
        "# Print the cross-validation scores\n",
        "print(\"Cross-validation scores:\", scores)\n",
        "print(\"Average cross-validation score:\", scores.mean())"
      ],
      "metadata": {
        "colab": {
          "base_uri": "https://localhost:8080/"
        },
        "id": "Q8U7Mm4Nea66",
        "outputId": "ff74e654-be85-4c3d-b360-3e0f83546dfd"
      },
      "execution_count": null,
      "outputs": [
        {
          "output_type": "stream",
          "name": "stdout",
          "text": [
            "Cross-validation scores: [0.5651801  0.58773059 0.56070356 0.56542257 0.58129558]\n",
            "Average cross-validation score: 0.5720664796136494\n"
          ]
        }
      ]
    },
    {
      "cell_type": "markdown",
      "source": [
        "Consecutive_Cuts_Made_Scaled avg cross-validation score 0.572 barely better than Consecutive_Cuts_Made avg cross-validation score 0.566"
      ],
      "metadata": {
        "id": "EfHrKEYFedPw"
      }
    },
    {
      "cell_type": "code",
      "source": [
        "# Train a stochastic gradient descent classifier using Scikit-Learn's SGDClassifier class. Y is made_cut and X is Consecutive_Cuts_Made_Scaled, sg_putt, sg_arg, sg_app, sg_ott. Then evaluate our SGDClassifier model using 5-fold cross-validation.\n",
        "\n",
        "# Define your features and target variable\n",
        "X = df[['Consecutive_Cuts_Made_Scaled', 'sg_putt', 'sg_arg', 'sg_app', 'sg_ott']]\n",
        "y = df['made_cut']\n",
        "\n",
        "# Split the data into training and testing sets\n",
        "X_train, X_test, y_train, y_test = train_test_split(X, y, test_size=0.2, random_state=42)\n",
        "\n",
        "# Initialize the SGDClassifier\n",
        "clf = SGDClassifier(loss='log_loss', random_state=42)  # Using log_loss for logistic regression\n",
        "\n",
        "# Train the classifier\n",
        "clf.fit(X_train, y_train)\n",
        "\n",
        "# Evaluate the model using 5-fold cross-validation\n",
        "scores = cross_val_score(clf, X, y, cv=5)\n",
        "\n",
        "# Print the cross-validation scores\n",
        "print(\"Cross-validation scores:\", scores)\n",
        "print(\"Average cross-validation score:\", scores.mean())"
      ],
      "metadata": {
        "colab": {
          "base_uri": "https://localhost:8080/"
        },
        "id": "tLEEdCJTeeEb",
        "outputId": "70261ca4-085c-4e6f-c7cf-c898dc2d84cc"
      },
      "execution_count": null,
      "outputs": [
        {
          "output_type": "stream",
          "name": "stdout",
          "text": [
            "Cross-validation scores: [0.79631218 0.81896182 0.7957958  0.81166881 0.82496782]\n",
            "Average cross-validation score: 0.8095412859563803\n"
          ]
        }
      ]
    },
    {
      "cell_type": "code",
      "source": [
        "# use randomforestregressor to indicate the relative importance of each of Consecutive_Cuts_Made_Scaled, sg_putt, sg_arg, sg_app, sg_ott\n",
        "\n",
        "from sklearn.ensemble import RandomForestRegressor\n",
        "\n",
        "# Define your features and target variable\n",
        "X = df[['Consecutive_Cuts_Made_Scaled', 'sg_putt', 'sg_arg', 'sg_app', 'sg_ott']]\n",
        "y = df['made_cut']\n",
        "\n",
        "# Initialize the RandomForestRegressor\n",
        "rf = RandomForestRegressor(random_state=42)\n",
        "\n",
        "# Train the model\n",
        "rf.fit(X, y)\n",
        "\n",
        "# Get feature importances\n",
        "importances = rf.feature_importances_\n",
        "\n",
        "# Print feature importances\n",
        "for feature, importance in zip(X.columns, importances):\n",
        "  print(f\"{feature}: {importance}\")"
      ],
      "metadata": {
        "colab": {
          "base_uri": "https://localhost:8080/",
          "height": 382
        },
        "id": "lezP7hnXekLx",
        "outputId": "e449559e-c033-46ce-c836-b43de6af9b96"
      },
      "execution_count": null,
      "outputs": [
        {
          "output_type": "error",
          "ename": "KeyError",
          "evalue": "\"['Consecutive_Cuts_Made_Scaled'] not in index\"",
          "traceback": [
            "\u001b[0;31m---------------------------------------------------------------------------\u001b[0m",
            "\u001b[0;31mKeyError\u001b[0m                                  Traceback (most recent call last)",
            "\u001b[0;32m<ipython-input-14-5652703b171a>\u001b[0m in \u001b[0;36m<cell line: 6>\u001b[0;34m()\u001b[0m\n\u001b[1;32m      4\u001b[0m \u001b[0;34m\u001b[0m\u001b[0m\n\u001b[1;32m      5\u001b[0m \u001b[0;31m# Define your features and target variable\u001b[0m\u001b[0;34m\u001b[0m\u001b[0;34m\u001b[0m\u001b[0m\n\u001b[0;32m----> 6\u001b[0;31m \u001b[0mX\u001b[0m \u001b[0;34m=\u001b[0m \u001b[0mdf\u001b[0m\u001b[0;34m[\u001b[0m\u001b[0;34m[\u001b[0m\u001b[0;34m'Consecutive_Cuts_Made_Scaled'\u001b[0m\u001b[0;34m,\u001b[0m \u001b[0;34m'sg_putt'\u001b[0m\u001b[0;34m,\u001b[0m \u001b[0;34m'sg_arg'\u001b[0m\u001b[0;34m,\u001b[0m \u001b[0;34m'sg_app'\u001b[0m\u001b[0;34m,\u001b[0m \u001b[0;34m'sg_ott'\u001b[0m\u001b[0;34m]\u001b[0m\u001b[0;34m]\u001b[0m\u001b[0;34m\u001b[0m\u001b[0;34m\u001b[0m\u001b[0m\n\u001b[0m\u001b[1;32m      7\u001b[0m \u001b[0my\u001b[0m \u001b[0;34m=\u001b[0m \u001b[0mdf\u001b[0m\u001b[0;34m[\u001b[0m\u001b[0;34m'made_cut'\u001b[0m\u001b[0;34m]\u001b[0m\u001b[0;34m\u001b[0m\u001b[0;34m\u001b[0m\u001b[0m\n\u001b[1;32m      8\u001b[0m \u001b[0;34m\u001b[0m\u001b[0m\n",
            "\u001b[0;32m/usr/local/lib/python3.10/dist-packages/pandas/core/frame.py\u001b[0m in \u001b[0;36m__getitem__\u001b[0;34m(self, key)\u001b[0m\n\u001b[1;32m   3897\u001b[0m             \u001b[0;32mif\u001b[0m \u001b[0mis_iterator\u001b[0m\u001b[0;34m(\u001b[0m\u001b[0mkey\u001b[0m\u001b[0;34m)\u001b[0m\u001b[0;34m:\u001b[0m\u001b[0;34m\u001b[0m\u001b[0;34m\u001b[0m\u001b[0m\n\u001b[1;32m   3898\u001b[0m                 \u001b[0mkey\u001b[0m \u001b[0;34m=\u001b[0m \u001b[0mlist\u001b[0m\u001b[0;34m(\u001b[0m\u001b[0mkey\u001b[0m\u001b[0;34m)\u001b[0m\u001b[0;34m\u001b[0m\u001b[0;34m\u001b[0m\u001b[0m\n\u001b[0;32m-> 3899\u001b[0;31m             \u001b[0mindexer\u001b[0m \u001b[0;34m=\u001b[0m \u001b[0mself\u001b[0m\u001b[0;34m.\u001b[0m\u001b[0mcolumns\u001b[0m\u001b[0;34m.\u001b[0m\u001b[0m_get_indexer_strict\u001b[0m\u001b[0;34m(\u001b[0m\u001b[0mkey\u001b[0m\u001b[0;34m,\u001b[0m \u001b[0;34m\"columns\"\u001b[0m\u001b[0;34m)\u001b[0m\u001b[0;34m[\u001b[0m\u001b[0;36m1\u001b[0m\u001b[0;34m]\u001b[0m\u001b[0;34m\u001b[0m\u001b[0;34m\u001b[0m\u001b[0m\n\u001b[0m\u001b[1;32m   3900\u001b[0m \u001b[0;34m\u001b[0m\u001b[0m\n\u001b[1;32m   3901\u001b[0m         \u001b[0;31m# take() does not accept boolean indexers\u001b[0m\u001b[0;34m\u001b[0m\u001b[0;34m\u001b[0m\u001b[0m\n",
            "\u001b[0;32m/usr/local/lib/python3.10/dist-packages/pandas/core/indexes/base.py\u001b[0m in \u001b[0;36m_get_indexer_strict\u001b[0;34m(self, key, axis_name)\u001b[0m\n\u001b[1;32m   6113\u001b[0m             \u001b[0mkeyarr\u001b[0m\u001b[0;34m,\u001b[0m \u001b[0mindexer\u001b[0m\u001b[0;34m,\u001b[0m \u001b[0mnew_indexer\u001b[0m \u001b[0;34m=\u001b[0m \u001b[0mself\u001b[0m\u001b[0;34m.\u001b[0m\u001b[0m_reindex_non_unique\u001b[0m\u001b[0;34m(\u001b[0m\u001b[0mkeyarr\u001b[0m\u001b[0;34m)\u001b[0m\u001b[0;34m\u001b[0m\u001b[0;34m\u001b[0m\u001b[0m\n\u001b[1;32m   6114\u001b[0m \u001b[0;34m\u001b[0m\u001b[0m\n\u001b[0;32m-> 6115\u001b[0;31m         \u001b[0mself\u001b[0m\u001b[0;34m.\u001b[0m\u001b[0m_raise_if_missing\u001b[0m\u001b[0;34m(\u001b[0m\u001b[0mkeyarr\u001b[0m\u001b[0;34m,\u001b[0m \u001b[0mindexer\u001b[0m\u001b[0;34m,\u001b[0m \u001b[0maxis_name\u001b[0m\u001b[0;34m)\u001b[0m\u001b[0;34m\u001b[0m\u001b[0;34m\u001b[0m\u001b[0m\n\u001b[0m\u001b[1;32m   6116\u001b[0m \u001b[0;34m\u001b[0m\u001b[0m\n\u001b[1;32m   6117\u001b[0m         \u001b[0mkeyarr\u001b[0m \u001b[0;34m=\u001b[0m \u001b[0mself\u001b[0m\u001b[0;34m.\u001b[0m\u001b[0mtake\u001b[0m\u001b[0;34m(\u001b[0m\u001b[0mindexer\u001b[0m\u001b[0;34m)\u001b[0m\u001b[0;34m\u001b[0m\u001b[0;34m\u001b[0m\u001b[0m\n",
            "\u001b[0;32m/usr/local/lib/python3.10/dist-packages/pandas/core/indexes/base.py\u001b[0m in \u001b[0;36m_raise_if_missing\u001b[0;34m(self, key, indexer, axis_name)\u001b[0m\n\u001b[1;32m   6177\u001b[0m \u001b[0;34m\u001b[0m\u001b[0m\n\u001b[1;32m   6178\u001b[0m             \u001b[0mnot_found\u001b[0m \u001b[0;34m=\u001b[0m \u001b[0mlist\u001b[0m\u001b[0;34m(\u001b[0m\u001b[0mensure_index\u001b[0m\u001b[0;34m(\u001b[0m\u001b[0mkey\u001b[0m\u001b[0;34m)\u001b[0m\u001b[0;34m[\u001b[0m\u001b[0mmissing_mask\u001b[0m\u001b[0;34m.\u001b[0m\u001b[0mnonzero\u001b[0m\u001b[0;34m(\u001b[0m\u001b[0;34m)\u001b[0m\u001b[0;34m[\u001b[0m\u001b[0;36m0\u001b[0m\u001b[0;34m]\u001b[0m\u001b[0;34m]\u001b[0m\u001b[0;34m.\u001b[0m\u001b[0munique\u001b[0m\u001b[0;34m(\u001b[0m\u001b[0;34m)\u001b[0m\u001b[0;34m)\u001b[0m\u001b[0;34m\u001b[0m\u001b[0;34m\u001b[0m\u001b[0m\n\u001b[0;32m-> 6179\u001b[0;31m             \u001b[0;32mraise\u001b[0m \u001b[0mKeyError\u001b[0m\u001b[0;34m(\u001b[0m\u001b[0;34mf\"{not_found} not in index\"\u001b[0m\u001b[0;34m)\u001b[0m\u001b[0;34m\u001b[0m\u001b[0;34m\u001b[0m\u001b[0m\n\u001b[0m\u001b[1;32m   6180\u001b[0m \u001b[0;34m\u001b[0m\u001b[0m\n\u001b[1;32m   6181\u001b[0m     \u001b[0;34m@\u001b[0m\u001b[0moverload\u001b[0m\u001b[0;34m\u001b[0m\u001b[0;34m\u001b[0m\u001b[0m\n",
            "\u001b[0;31mKeyError\u001b[0m: \"['Consecutive_Cuts_Made_Scaled'] not in index\""
          ]
        }
      ]
    },
    {
      "cell_type": "code",
      "source": [
        "# use randomforestregressor to indicate the relative importance of each of sg_putt, sg_arg, sg_app, sg_ott\n",
        "\n",
        "# Define your features and target variable\n",
        "X = df[['sg_putt', 'sg_arg', 'sg_app', 'sg_ott']]\n",
        "y = df['made_cut']\n",
        "\n",
        "# Initialize the RandomForestRegressor\n",
        "rf = RandomForestRegressor(random_state=42)\n",
        "\n",
        "# Train the model\n",
        "rf.fit(X, y)\n",
        "\n",
        "# Get feature importances\n",
        "importances = rf.feature_importances_\n",
        "\n",
        "# Print feature importances\n",
        "for feature, importance in zip(X.columns, importances):\n",
        "  print(f\"{feature}: {importance}\")"
      ],
      "metadata": {
        "colab": {
          "base_uri": "https://localhost:8080/"
        },
        "id": "umXZrihmeonj",
        "outputId": "52e2c26f-3b67-4140-ecfc-d65c22fda225"
      },
      "execution_count": null,
      "outputs": [
        {
          "output_type": "stream",
          "name": "stdout",
          "text": [
            "sg_putt: 0.3039356786241116\n",
            "sg_arg: 0.20145547785642004\n",
            "sg_app: 0.29512638798480645\n",
            "sg_ott: 0.199482455534662\n"
          ]
        }
      ]
    },
    {
      "cell_type": "code",
      "source": [
        "# prompt: use StandardScalar to scale 'sg_total'\n",
        "\n",
        "from sklearn.preprocessing import StandardScaler\n",
        "\n",
        "# Create a StandardScaler object\n",
        "scaler = StandardScaler()\n",
        "\n",
        "# Fit the scaler to the 'sg_total' column and transform it\n",
        "df['sg_total_scaled'] = scaler.fit_transform(df[['sg_total']])\n",
        "df['sg_putt_scaled'] = scaler.fit_transform(df[['sg_putt']])"
      ],
      "metadata": {
        "id": "Cmtjs_7of4U0"
      },
      "execution_count": null,
      "outputs": []
    },
    {
      "cell_type": "code",
      "source": [
        "# Compare sg_total vs scaled\n",
        "# Define your features and target variable\n",
        "#X = df[[ 'sg_putt', 'sg_arg', 'sg_app', 'sg_ott', 'sg_t2g', 'sg_total']]\n",
        "X = df[[ 'sg_putt', 'sg_arg', 'sg_app', 'sg_ott', 'sg_t2g', 'sg_total_scaled']]\n",
        "y = df['made_cut']\n",
        "\n",
        "# Split the data into training and testing sets\n",
        "X_train, X_test, y_train, y_test = train_test_split(X, y, test_size=0.3, random_state=42)\n",
        "\n",
        "# Initialize the SGDClassifier\n",
        "clf = SGDClassifier(loss='log_loss', random_state=42)  # Using log_loss for logistic regression\n",
        "\n",
        "# Train the classifier\n",
        "clf.fit(X_train, y_train)\n",
        "\n",
        "# Evaluate the model using 5-fold cross-validation\n",
        "scores = cross_val_score(clf, X, y, cv=5)\n",
        "\n",
        "# Print the cross-validation scores\n",
        "print(\"Cross-validation scores:\", scores)\n",
        "print(\"Average cross-validation score:\", scores.mean())\n",
        "\n",
        "#sg_total\n",
        "#Cross-validation scores: [0.80531732 0.82024882 0.81939082 0.81939082 0.79236379]\n",
        "#Average cross-validation score: 0.8113423151159\n",
        "#scaled\n",
        "#Cross-validation scores: [0.79716981 0.81981982 0.81552982 0.81853282 0.81896182]\n",
        "#Average cross-validation score: 0.8140028168330055"
      ],
      "metadata": {
        "colab": {
          "base_uri": "https://localhost:8080/"
        },
        "id": "S3bJVA1Df7UZ",
        "outputId": "139e4c9e-c1ea-4cce-c758-3831d7f97578"
      },
      "execution_count": null,
      "outputs": [
        {
          "output_type": "stream",
          "name": "stdout",
          "text": [
            "Cross-validation scores: [0.79716981 0.81981982 0.81552982 0.81853282 0.81896182]\n",
            "Average cross-validation score: 0.8140028168330055\n"
          ]
        }
      ]
    },
    {
      "cell_type": "code",
      "source": [
        "from sklearn.model_selection import train_test_split\n",
        "from sklearn.svm import SVC\n",
        "from sklearn.metrics import accuracy_score, f1_score\n",
        "\n",
        "# Assuming 'df' is your DataFrame\n",
        "\n",
        "# Compare sg_total vs scaled\n",
        "# Define your features and target variable\n",
        "# X = df[['sg_putt', 'sg_arg', 'sg_app', 'sg_ott', 'sg_t2g', 'sg_total']]\n",
        "X = df[['sg_putt_scaled', 'sg_arg', 'sg_app', 'sg_ott', 'sg_t2g', 'sg_total_scaled']]\n",
        "y = df['made_cut']\n",
        "\n",
        "# Split the data into training and testing sets\n",
        "X_train, X_test, y_train, y_test = train_test_split(X, y, test_size=0.2, random_state=42)\n",
        "\n",
        "# Create an SVM classifier\n",
        "svm_classifier = SVC(kernel='sigmoid', gamma=0.001, coef0=0.3)  # You can experiment with different kernels\n",
        "\n",
        "# Train the classifier\n",
        "svm_classifier.fit(X_train, y_train)\n",
        "\n",
        "# Make predictions on the test set\n",
        "y_pred = svm_classifier.predict(X_test)\n",
        "\n",
        "# Evaluate the model\n",
        "accuracy = accuracy_score(y_test, y_pred)\n",
        "print(\"Accuracy:\", accuracy)\n",
        "#linear Accuracy: 0.7980274442538593\n",
        "#rbf Accuracy: 0.8156089193825042\n",
        "#poly deg 3 Accuracy: 0.7632933104631218\n",
        "#poly deg 2 Accuracy: 0.7993138936535163\n",
        "#poly4 Accuracy: 0.7474271012006861\n",
        "#poly5 Accuracy: 0.7264150943396226\n",
        "#sigmoid gamma=0.01, coef0=0.1 Accuracy: 0.7950257289879932\n",
        "#sigmoid gamma=0.1, coef0=0.1 Accuracy: 0.7221269296740995\n",
        "#sigmoid gamma=0.001, coef0=0.1 Accuracy: 0.7958833619210978\n",
        "#sigmoid gamma=0.001, coef0=0.5 Accuracy: 0.7933104631217839\n",
        "#sigmoid gamma=0.001, coef0=0.5 Accuracy: 0.7954545454545454"
      ],
      "metadata": {
        "colab": {
          "base_uri": "https://localhost:8080/"
        },
        "id": "BnfkZE3Vf_t8",
        "outputId": "a32ad89d-80d4-406d-9bbd-bc9298e26c00"
      },
      "execution_count": null,
      "outputs": [
        {
          "output_type": "stream",
          "name": "stdout",
          "text": [
            "Accuracy: 0.7911663807890223\n"
          ]
        }
      ]
    },
    {
      "cell_type": "code",
      "source": [
        "# prompt: What is F1 of above?\n",
        "\n",
        "# Calculate the F1-score\n",
        "f1 = f1_score(y_test, y_pred)\n",
        "print(\"F1-score:\", f1)\n"
      ],
      "metadata": {
        "id": "vYFhHpKJpjb3",
        "outputId": "f76046ba-5269-400b-b4e1-57a40190b4b6",
        "colab": {
          "base_uri": "https://localhost:8080/"
        }
      },
      "execution_count": null,
      "outputs": [
        {
          "output_type": "stream",
          "name": "stdout",
          "text": [
            "F1-score: 0.8194289951798296\n"
          ]
        }
      ]
    },
    {
      "cell_type": "code",
      "source": [
        "from sklearn.model_selection import train_test_split\n",
        "from sklearn.svm import SVC\n",
        "from sklearn.metrics import accuracy_score\n",
        "\n",
        "# Assuming 'df' is your DataFrame\n",
        "\n",
        "# Compare sg_total vs scaled- Its much better not scaled\n",
        "# Define your features and target variable\n",
        "# X = df[['sg_putt', 'sg_arg', 'sg_app', 'sg_ott', 'sg_t2g', 'sg_total']]\n",
        "X = df[['sg_putt', 'sg_arg', 'sg_app', 'sg_ott', 'sg_t2g', 'sg_total']]\n",
        "y = df['made_cut']\n",
        "\n",
        "# Split the data into training and testing sets\n",
        "X_train, X_test, y_train, y_test = train_test_split(X, y, test_size=0.3, random_state=42)\n",
        "\n",
        "# Create an SVM classifier\n",
        "svm_classifier = SVC(kernel='rbf', gamma=0.1, coef0=0)  # You can experiment with different kernels\n",
        "\n",
        "# Train the classifier\n",
        "svm_classifier.fit(X_train, y_train)\n",
        "\n",
        "# Make predictions on the test set\n",
        "y_pred = svm_classifier.predict(X_test)\n",
        "\n",
        "# Evaluate the model\n",
        "accuracy = accuracy_score(y_test, y_pred)\n",
        "print(\"Accuracy:\", accuracy)\n",
        "#rbf Accuracy: 0.8227051758650271\n",
        "#neural net Accuracy: 0.8227051496505737"
      ],
      "metadata": {
        "colab": {
          "base_uri": "https://localhost:8080/"
        },
        "id": "aok2sps3gFpJ",
        "outputId": "19467b80-6a5f-4b0a-b887-653eeec3f95e"
      },
      "execution_count": null,
      "outputs": [
        {
          "output_type": "stream",
          "name": "stdout",
          "text": [
            "Accuracy: 0.8227051758650271\n"
          ]
        }
      ]
    },
    {
      "cell_type": "code",
      "source": [
        "\n",
        "# Calculate the F1-score\n",
        "f1 = f1_score(y_test, y_pred)\n",
        "print(\"F1-score:\", f1)"
      ],
      "metadata": {
        "id": "HsBKHoEk3vH9",
        "outputId": "ecae1d3f-7046-455e-9dcd-b83fd1c495c7",
        "colab": {
          "base_uri": "https://localhost:8080/"
        }
      },
      "execution_count": null,
      "outputs": [
        {
          "output_type": "stream",
          "name": "stdout",
          "text": [
            "F1-score: 0.8369279326670174\n"
          ]
        }
      ]
    },
    {
      "cell_type": "code",
      "source": [
        "# prompt: Train a neural net.\n",
        "\n",
        "import tensorflow as tf\n",
        "from tensorflow import keras\n",
        "\n",
        "# Define your features and target variable\n",
        "X = df[['sg_putt', 'sg_arg', 'sg_app', 'sg_ott', 'sg_t2g', 'sg_total']]\n",
        "y = df['made_cut']\n",
        "\n",
        "# Split the data into training and testing sets\n",
        "X_train, X_test, y_train, y_test = train_test_split(X, y, test_size=0.3, random_state=42)\n",
        "\n",
        "# Define the model\n",
        "model = keras.Sequential([\n",
        "    keras.layers.Dense(128, activation='LeakyReLU', input_shape=(6,)),  # Input layer with 4 features\n",
        "    #keras.layers.Dropout(0.2),  # Add dropout\n",
        "    keras.layers.Dense(64, activation='LeakyReLU'),  # Hidden layer\n",
        "    #keras.layers.Dropout(0.2),  # Add dropout\n",
        "    keras.layers.Dense(1, activation='sigmoid')  # Output layer for binary classification\n",
        "])\n",
        "\n",
        "# Compile the model\n",
        "model.compile(optimizer='adam', loss='binary_crossentropy', metrics=['accuracy'])\n",
        "# Consider using early stopping\n",
        "#early_stopping = keras.callbacks.EarlyStopping(monitor='val_loss', patience=10)\n",
        "\n",
        "# Train the model\n",
        "model.fit(X_train, y_train, epochs=10, batch_size=32)\n",
        "\n",
        "# Evaluate the model\n",
        "_, accuracy = model.evaluate(X_test, y_test)\n",
        "print('Accuracy: {}'.format(accuracy))\n",
        "#rbf Accuracy: 0.8227051758650271\n",
        "#neural net Accuracy relu adam: 0.8227051496505737\n",
        "#NN with tanh tanh sigmoid Accuracy: 0.824992835521698\n",
        "# elu wasnt as good\n",
        "# all 3 tanh was not good, dropout didnt help\n",
        "# LeakyRelu with sigmoid Accuracy: 0.8255647420883179\n",
        "# softmax was terrible\n",
        "#no change from adam to RMSprop, sgd no good, adagrad, adamax no good, hinge no good\n",
        "#nadam was best Accuracy: 0.8269945383071899\n",
        "#another nadam Accuracy: 0.8224192261695862\n",
        "#another rmsprop Accuracy: 0.8267086148262024"
      ],
      "metadata": {
        "colab": {
          "base_uri": "https://localhost:8080/"
        },
        "id": "q6E2RWBHgJf8",
        "outputId": "8ac41a82-a45a-417e-be67-f3740df9ede6"
      },
      "execution_count": null,
      "outputs": [
        {
          "output_type": "stream",
          "name": "stdout",
          "text": [
            "Epoch 1/10\n",
            "255/255 [==============================] - 6s 8ms/step - loss: 0.4234 - accuracy: 0.8174\n",
            "Epoch 2/10\n",
            "255/255 [==============================] - 2s 7ms/step - loss: 0.3914 - accuracy: 0.8290\n",
            "Epoch 3/10\n",
            "255/255 [==============================] - 1s 5ms/step - loss: 0.3824 - accuracy: 0.8282\n",
            "Epoch 4/10\n",
            "255/255 [==============================] - 1s 5ms/step - loss: 0.3778 - accuracy: 0.8295\n",
            "Epoch 5/10\n",
            "255/255 [==============================] - 1s 4ms/step - loss: 0.3746 - accuracy: 0.8310\n",
            "Epoch 6/10\n",
            "255/255 [==============================] - 1s 3ms/step - loss: 0.3725 - accuracy: 0.8310\n",
            "Epoch 7/10\n",
            "255/255 [==============================] - 0s 2ms/step - loss: 0.3714 - accuracy: 0.8317\n",
            "Epoch 8/10\n",
            "255/255 [==============================] - 0s 2ms/step - loss: 0.3657 - accuracy: 0.8347\n",
            "Epoch 9/10\n",
            "255/255 [==============================] - 0s 2ms/step - loss: 0.3680 - accuracy: 0.8323\n",
            "Epoch 10/10\n",
            "255/255 [==============================] - 0s 2ms/step - loss: 0.3661 - accuracy: 0.8323\n",
            "110/110 [==============================] - 0s 1ms/step - loss: 0.3822 - accuracy: 0.8293\n",
            "Accuracy: 0.8292822241783142\n"
          ]
        }
      ]
    },
    {
      "cell_type": "code",
      "source": [
        "from sklearn.metrics import f1_score\n",
        "f1 = f1_score(y_test, y_pred)\n",
        "print('F1 score:', f1)"
      ],
      "metadata": {
        "colab": {
          "base_uri": "https://localhost:8080/"
        },
        "id": "FQhi-3jlgPV_",
        "outputId": "f77048a0-8b15-4df2-a3cb-81993aad6443"
      },
      "execution_count": null,
      "outputs": [
        {
          "output_type": "stream",
          "name": "stdout",
          "text": [
            "F1 score: 0.8369279326670174\n"
          ]
        }
      ]
    }
  ]
}